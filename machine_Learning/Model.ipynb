{
 "cells": [
  {
   "cell_type": "code",
   "execution_count": 1,
   "id": "141fee73",
   "metadata": {
    "id": "141fee73"
   },
   "outputs": [],
   "source": [
    "import pandas as pd\n",
    "import seaborn as sns\n",
    "import numpy as np\n",
    "import matplotlib.pyplot as plt\n",
    "from sklearn.preprocessing import OneHotEncoder\n",
    "from sklearn.preprocessing import MinMaxScaler\n",
    "from sklearn.model_selection import train_test_split\n",
    "from collections import Counter\n",
    "from imblearn.over_sampling import RandomOverSampler\n",
    "from sklearn.linear_model import LogisticRegression\n",
    "from sklearn.model_selection import GridSearchCV\n",
    "from sklearn.ensemble import RandomForestClassifier\n",
    "from sklearn.metrics import accuracy_score,confusion_matrix,f1_score\n",
    "from sklearn.tree import DecisionTreeClassifier,plot_tree\n",
    "from scipy.stats import uniform\n",
    "from sklearn.model_selection import RandomizedSearchCV\n",
    "import pickle"
   ]
  },
  {
   "cell_type": "markdown",
   "id": "47f1d7b1",
   "metadata": {},
   "source": [
    "###  Here I have used csv that I processed in data_analytics assignment "
   ]
  },
  {
   "cell_type": "code",
   "execution_count": 2,
   "id": "ebf7e784",
   "metadata": {
    "id": "ebf7e784"
   },
   "outputs": [],
   "source": [
    "df = pd.read_csv(\"Updated_health.csv\")"
   ]
  },
  {
   "cell_type": "code",
   "execution_count": 10,
   "id": "264972ac",
   "metadata": {},
   "outputs": [],
   "source": [
    "df1 = pd.read_csv('healthcare-dataset-stroke-data.csv')"
   ]
  },
  {
   "cell_type": "code",
   "execution_count": 11,
   "id": "07b79574",
   "metadata": {},
   "outputs": [],
   "source": [
    "df1.drop(columns=['id'],inplace=True)"
   ]
  },
  {
   "cell_type": "code",
   "execution_count": 12,
   "id": "8006c9b3",
   "metadata": {},
   "outputs": [
    {
     "data": {
      "image/png": "[encoded data removed]",
      "text/plain": [
       "<Figure size 432x288 with 2 Axes>"
      ]
     },
     "metadata": {
      "needs_background": "light"
     },
     "output_type": "display_data"
    }
   ],
   "source": [
    "# plotting correlation heatmap\n",
    "dataplot = sb.heatmap(df1.corr(), cmap=\"YlGnBu\", annot=True)\n",
    "  \n",
    "mp.show()"
   ]
  },
  {
   "cell_type": "markdown",
   "id": "c82341e7",
   "metadata": {
    "id": "c82341e7"
   },
   "source": [
    "# Sampling the data"
   ]
  },
  {
   "cell_type": "code",
   "execution_count": 3,
   "id": "709d3a74",
   "metadata": {
    "colab": {
     "base_uri": "https://localhost:8080/"
    },
    "id": "709d3a74",
    "outputId": "c9705358-2910-41c5-d0b0-d85a63714afb"
   },
   "outputs": [
    {
     "data": {
      "text/plain": [
       "0    4861\n",
       "1     249\n",
       "Name: stroke, dtype: int64"
      ]
     },
     "execution_count": 3,
     "metadata": {},
     "output_type": "execute_result"
    }
   ],
   "source": [
    "df['stroke'].value_counts()\n",
    "#Here we have imbalanced data so we need to sample the data, to prevent biasness"
   ]
  },
  {
   "cell_type": "code",
   "execution_count": 4,
   "id": "d4e695e4",
   "metadata": {
    "colab": {
     "base_uri": "https://localhost:8080/"
    },
    "id": "d4e695e4",
    "outputId": "fe450248-a335-432f-be6f-5f7643f85529"
   },
   "outputs": [
    {
     "data": {
      "text/plain": [
       "0    76130\n",
       "1     3870\n",
       "Name: stroke, dtype: int64"
      ]
     },
     "execution_count": 4,
     "metadata": {},
     "output_type": "execute_result"
    }
   ],
   "source": [
    "#Creating sampled dataframe\n",
    "sampled_df = df.sample(n=80000,replace=True)\n",
    "sampled_df['stroke'].value_counts()"
   ]
  },
  {
   "cell_type": "code",
   "execution_count": 5,
   "id": "a7f2f515",
   "metadata": {
    "id": "a7f2f515"
   },
   "outputs": [
    {
     "name": "stderr",
     "output_type": "stream",
     "text": [
      "C:\\Users\\snehe\\AppData\\Local\\Temp\\ipykernel_1708\\9201069.py:7: FutureWarning: The frame.append method is deprecated and will be removed from pandas in a future version. Use pandas.concat instead.\n",
      "  sampled_filtered = sampled_filtered.append(sampled_df.iloc[[i]],ignore_index=True)\n"
     ]
    }
   ],
   "source": [
    "#Creating another dataframe that will contain sampled data of people who got an stroke\n",
    "\n",
    "sampled_filtered=pd.DataFrame()\n",
    "\n",
    "for i in range(len(sampled_df['stroke'])):\n",
    "    if list(sampled_df['stroke'].iloc[[i]])[0] == 1:\n",
    "        sampled_filtered = sampled_filtered.append(sampled_df.iloc[[i]],ignore_index=True)"
   ]
  },
  {
   "cell_type": "code",
   "execution_count": 6,
   "id": "ce8a8acb",
   "metadata": {
    "colab": {
     "base_uri": "https://localhost:8080/"
    },
    "id": "ce8a8acb",
    "outputId": "5f1f7f65-b075-4e92-99cc-84d4671ea5d7"
   },
   "outputs": [
    {
     "data": {
      "text/plain": [
       "1    3870\n",
       "Name: stroke, dtype: int64"
      ]
     },
     "execution_count": 6,
     "metadata": {},
     "output_type": "execute_result"
    }
   ],
   "source": [
    "sampled_filtered['stroke'].value_counts()\n",
    "#Now we can add this sampled data which will balance the dataset in terms of output variable"
   ]
  },
  {
   "cell_type": "code",
   "execution_count": 7,
   "id": "8b23de34",
   "metadata": {
    "colab": {
     "base_uri": "https://localhost:8080/"
    },
    "id": "8b23de34",
    "outputId": "1097dec6-01a3-409e-ff1f-9a0b3fbe04b9"
   },
   "outputs": [
    {
     "name": "stderr",
     "output_type": "stream",
     "text": [
      "C:\\Users\\snehe\\AppData\\Local\\Temp\\ipykernel_1708\\1899824783.py:4: FutureWarning: The frame.append method is deprecated and will be removed from pandas in a future version. Use pandas.concat instead.\n",
      "  df = df.append(sampled_filtered,ignore_index=True)\n"
     ]
    },
    {
     "data": {
      "text/plain": [
       "0    4861\n",
       "1    4119\n",
       "Name: stroke, dtype: int64"
      ]
     },
     "execution_count": 7,
     "metadata": {},
     "output_type": "execute_result"
    }
   ],
   "source": [
    "#adding sampled data to main data frame\n",
    "#ignore index ensures no extra index is added\n",
    "\n",
    "df = df.append(sampled_filtered,ignore_index=True)\n",
    "df['stroke'].value_counts()\n",
    "\n",
    "#Now we have balanced dataset"
   ]
  },
  {
   "cell_type": "markdown",
   "id": "0496419c",
   "metadata": {},
   "source": [
    "### Removing some non-useful fields"
   ]
  },
  {
   "cell_type": "code",
   "execution_count": 8,
   "id": "4caa1d03",
   "metadata": {
    "id": "4caa1d03"
   },
   "outputs": [],
   "source": [
    "df.drop(columns=['Unnamed: 0'],inplace=True)"
   ]
  },
  {
   "cell_type": "code",
   "execution_count": 9,
   "id": "a9165224",
   "metadata": {
    "colab": {
     "base_uri": "https://localhost:8080/"
    },
    "id": "a9165224",
    "outputId": "aae6f680-dda6-421c-c03b-6bfd44852a7b"
   },
   "outputs": [
    {
     "data": {
      "text/plain": [
       "Index(['id', 'gender', 'age', 'hypertension', 'heart_disease', 'ever_married',\n",
       "       'Residence_type', 'avg_glucose_level', 'bmi', 'stroke', 'sugar_type',\n",
       "       'body_type', 'work_type_Govt_job', 'work_type_Never_worked',\n",
       "       'work_type_Private', 'work_type_Self-employed', 'work_type_children',\n",
       "       'smoking_status_Unknown', 'smoking_status_formerly smoked',\n",
       "       'smoking_status_never smoked', 'smoking_status_smokes'],\n",
       "      dtype='object')"
      ]
     },
     "execution_count": 9,
     "metadata": {},
     "output_type": "execute_result"
    }
   ],
   "source": [
    "df.columns"
   ]
  },
  {
   "cell_type": "code",
   "execution_count": 10,
   "id": "bc37e116",
   "metadata": {
    "id": "bc37e116"
   },
   "outputs": [],
   "source": [
    "X = df.copy()    #we have to use copy otherwise changes will be made to the original variable"
   ]
  },
  {
   "cell_type": "code",
   "execution_count": 11,
   "id": "98011049",
   "metadata": {
    "id": "98011049"
   },
   "outputs": [],
   "source": [
    "y = X['stroke']\n",
    "X.drop(['stroke','id'],axis = 1,inplace = True)"
   ]
  },
  {
   "cell_type": "markdown",
   "id": "a423e111",
   "metadata": {},
   "source": [
    "### Splitting the dataset"
   ]
  },
  {
   "cell_type": "code",
   "execution_count": 12,
   "id": "R9JW0BKCScF1",
   "metadata": {
    "colab": {
     "base_uri": "https://localhost:8080/"
    },
    "id": "R9JW0BKCScF1",
    "outputId": "141f45bc-aa9f-4759-d9d4-e48638dcc826"
   },
   "outputs": [
    {
     "data": {
      "text/plain": [
       "Index(['gender', 'age', 'hypertension', 'heart_disease', 'ever_married',\n",
       "       'Residence_type', 'avg_glucose_level', 'bmi', 'sugar_type', 'body_type',\n",
       "       'work_type_Govt_job', 'work_type_Never_worked', 'work_type_Private',\n",
       "       'work_type_Self-employed', 'work_type_children',\n",
       "       'smoking_status_Unknown', 'smoking_status_formerly smoked',\n",
       "       'smoking_status_never smoked', 'smoking_status_smokes'],\n",
       "      dtype='object')"
      ]
     },
     "execution_count": 12,
     "metadata": {},
     "output_type": "execute_result"
    }
   ],
   "source": [
    "X.columns"
   ]
  },
  {
   "cell_type": "code",
   "execution_count": 13,
   "id": "flZMz8JfS7l2",
   "metadata": {
    "id": "flZMz8JfS7l2"
   },
   "outputs": [],
   "source": [
    "#Splitting the data into train and test with 20% for testing\n",
    "#Random state remembers the splitting to be same next time\n",
    "\n",
    "X_train, X_test, y_train, y_test = train_test_split(X, y, test_size=0.20, random_state=42)"
   ]
  },
  {
   "cell_type": "markdown",
   "id": "b2734a36",
   "metadata": {},
   "source": [
    "## Logistic Regression"
   ]
  },
  {
   "cell_type": "code",
   "execution_count": 14,
   "id": "myJM6AFaTXDX",
   "metadata": {
    "colab": {
     "base_uri": "https://localhost:8080/"
    },
    "id": "myJM6AFaTXDX",
    "outputId": "b34d58fa-03ca-4439-a75b-37b041419eea"
   },
   "outputs": [
    {
     "name": "stderr",
     "output_type": "stream",
     "text": [
      "C:\\Users\\snehe\\AppData\\Local\\Programs\\Python\\Python39\\lib\\site-packages\\sklearn\\linear_model\\_logistic.py:444: ConvergenceWarning: lbfgs failed to converge (status=1):\n",
      "STOP: TOTAL NO. of ITERATIONS REACHED LIMIT.\n",
      "\n",
      "Increase the number of iterations (max_iter) or scale the data as shown in:\n",
      "    https://scikit-learn.org/stable/modules/preprocessing.html\n",
      "Please also refer to the documentation for alternative solver options:\n",
      "    https://scikit-learn.org/stable/modules/linear_model.html#logistic-regression\n",
      "  n_iter_i = _check_optimize_result(\n"
     ]
    },
    {
     "data": {
      "text/html": [
       "<style>#sk-container-id-1 {color: black;background-color: white;}#sk-container-id-1 pre{padding: 0;}#sk-container-id-1 div.sk-toggleable {background-color: white;}#sk-container-id-1 label.sk-toggleable__label {cursor: pointer;display: block;width: 100%;margin-bottom: 0;padding: 0.3em;box-sizing: border-box;text-align: center;}#sk-container-id-1 label.sk-toggleable__label-arrow:before {content: \"▸\";float: left;margin-right: 0.25em;color: #696969;}#sk-container-id-1 label.sk-toggleable__label-arrow:hover:before {color: black;}#sk-container-id-1 div.sk-estimator:hover label.sk-toggleable__label-arrow:before {color: black;}#sk-container-id-1 div.sk-toggleable__content {max-height: 0;max-width: 0;overflow: hidden;text-align: left;background-color: #f0f8ff;}#sk-container-id-1 div.sk-toggleable__content pre {margin: 0.2em;color: black;border-radius: 0.25em;background-color: #f0f8ff;}#sk-container-id-1 input.sk-toggleable__control:checked~div.sk-toggleable__content {max-height: 200px;max-width: 100%;overflow: auto;}#sk-container-id-1 input.sk-toggleable__control:checked~label.sk-toggleable__label-arrow:before {content: \"▾\";}#sk-container-id-1 div.sk-estimator input.sk-toggleable__control:checked~label.sk-toggleable__label {background-color: #d4ebff;}#sk-container-id-1 div.sk-label input.sk-toggleable__control:checked~label.sk-toggleable__label {background-color: #d4ebff;}#sk-container-id-1 input.sk-hidden--visually {border: 0;clip: rect(1px 1px 1px 1px);clip: rect(1px, 1px, 1px, 1px);height: 1px;margin: -1px;overflow: hidden;padding: 0;position: absolute;width: 1px;}#sk-container-id-1 div.sk-estimator {font-family: monospace;background-color: #f0f8ff;border: 1px dotted black;border-radius: 0.25em;box-sizing: border-box;margin-bottom: 0.5em;}#sk-container-id-1 div.sk-estimator:hover {background-color: #d4ebff;}#sk-container-id-1 div.sk-parallel-item::after {content: \"\";width: 100%;border-bottom: 1px solid gray;flex-grow: 1;}#sk-container-id-1 div.sk-label:hover label.sk-toggleable__label {background-color: #d4ebff;}#sk-container-id-1 div.sk-serial::before {content: \"\";position: absolute;border-left: 1px solid gray;box-sizing: border-box;top: 0;bottom: 0;left: 50%;z-index: 0;}#sk-container-id-1 div.sk-serial {display: flex;flex-direction: column;align-items: center;background-color: white;padding-right: 0.2em;padding-left: 0.2em;position: relative;}#sk-container-id-1 div.sk-item {position: relative;z-index: 1;}#sk-container-id-1 div.sk-parallel {display: flex;align-items: stretch;justify-content: center;background-color: white;position: relative;}#sk-container-id-1 div.sk-item::before, #sk-container-id-1 div.sk-parallel-item::before {content: \"\";position: absolute;border-left: 1px solid gray;box-sizing: border-box;top: 0;bottom: 0;left: 50%;z-index: -1;}#sk-container-id-1 div.sk-parallel-item {display: flex;flex-direction: column;z-index: 1;position: relative;background-color: white;}#sk-container-id-1 div.sk-parallel-item:first-child::after {align-self: flex-end;width: 50%;}#sk-container-id-1 div.sk-parallel-item:last-child::after {align-self: flex-start;width: 50%;}#sk-container-id-1 div.sk-parallel-item:only-child::after {width: 0;}#sk-container-id-1 div.sk-dashed-wrapped {border: 1px dashed gray;margin: 0 0.4em 0.5em 0.4em;box-sizing: border-box;padding-bottom: 0.4em;background-color: white;}#sk-container-id-1 div.sk-label label {font-family: monospace;font-weight: bold;display: inline-block;line-height: 1.2em;}#sk-container-id-1 div.sk-label-container {text-align: center;}#sk-container-id-1 div.sk-container {/* jupyter's `normalize.less` sets `[hidden] { display: none; }` but bootstrap.min.css set `[hidden] { display: none !important; }` so we also need the `!important` here to be able to override the default hidden behavior on the sphinx rendered scikit-learn.org. See: https://github.com/scikit-learn/scikit-learn/issues/21755 */display: inline-block !important;position: relative;}#sk-container-id-1 div.sk-text-repr-fallback {display: none;}</style><div id=\"sk-container-id-1\" class=\"sk-top-container\"><div class=\"sk-text-repr-fallback\"><pre>LogisticRegression()</pre><b>In a Jupyter environment, please rerun this cell to show the HTML representation or trust the notebook. <br />On GitHub, the HTML representation is unable to render, please try loading this page with nbviewer.org.</b></div><div class=\"sk-container\" hidden><div class=\"sk-item\"><div class=\"sk-estimator sk-toggleable\"><input class=\"sk-toggleable__control sk-hidden--visually\" id=\"sk-estimator-id-1\" type=\"checkbox\" checked><label for=\"sk-estimator-id-1\" class=\"sk-toggleable__label sk-toggleable__label-arrow\">LogisticRegression</label><div class=\"sk-toggleable__content\"><pre>LogisticRegression()</pre></div></div></div></div></div>"
      ],
      "text/plain": [
       "LogisticRegression()"
      ]
     },
     "execution_count": 14,
     "metadata": {},
     "output_type": "execute_result"
    }
   ],
   "source": [
    "#Training Base Model\n",
    "BaseModel = LogisticRegression()\n",
    "BaseModel.fit(X_train,y_train)"
   ]
  },
  {
   "cell_type": "markdown",
   "id": "74ccf962",
   "metadata": {},
   "source": [
    "### Here we trained base model just to get the minimum accuracy idea"
   ]
  },
  {
   "cell_type": "code",
   "execution_count": 15,
   "id": "IeVqZqqZUKhr",
   "metadata": {
    "colab": {
     "base_uri": "https://localhost:8080/"
    },
    "id": "IeVqZqqZUKhr",
    "outputId": "c8057f7b-73dd-4fd1-a27f-3be83b78ef8c",
    "scrolled": true
   },
   "outputs": [
    {
     "name": "stdout",
     "output_type": "stream",
     "text": [
      "Accuracy on Training data, 0.7671213808463252\n",
      "Accuracy Of Base Model is  0.7628062360801782\n"
     ]
    }
   ],
   "source": [
    "BasePred = BaseModel.predict(X_test)\n",
    "BaseAcc = accuracy_score(y_test, BasePred)\n",
    "print('Accuracy on Training data,',accuracy_score(y_train, BaseModel.predict(X_train)))\n",
    "print('Accuracy Of Base Model is ',BaseAcc)"
   ]
  },
  {
   "cell_type": "markdown",
   "id": "b3c72c79",
   "metadata": {},
   "source": [
    "## Decision Tree Classifier"
   ]
  },
  {
   "cell_type": "markdown",
   "id": "765c49f0",
   "metadata": {},
   "source": [
    "Which is computationally complex than logistic regression, because it creates tree.\n",
    "In case of very large datasets decision tree can be very heavy algorithm but here we have comparably small dataset so we can make use of it."
   ]
  },
  {
   "cell_type": "code",
   "execution_count": 16,
   "id": "oTe5cGJ-XQWX",
   "metadata": {
    "colab": {
     "base_uri": "https://localhost:8080/"
    },
    "id": "oTe5cGJ-XQWX",
    "outputId": "dfd529f2-7f79-471e-dae5-1622ace3bf8c"
   },
   "outputs": [
    {
     "data": {
      "text/html": [
       "<style>#sk-container-id-2 {color: black;background-color: white;}#sk-container-id-2 pre{padding: 0;}#sk-container-id-2 div.sk-toggleable {background-color: white;}#sk-container-id-2 label.sk-toggleable__label {cursor: pointer;display: block;width: 100%;margin-bottom: 0;padding: 0.3em;box-sizing: border-box;text-align: center;}#sk-container-id-2 label.sk-toggleable__label-arrow:before {content: \"▸\";float: left;margin-right: 0.25em;color: #696969;}#sk-container-id-2 label.sk-toggleable__label-arrow:hover:before {color: black;}#sk-container-id-2 div.sk-estimator:hover label.sk-toggleable__label-arrow:before {color: black;}#sk-container-id-2 div.sk-toggleable__content {max-height: 0;max-width: 0;overflow: hidden;text-align: left;background-color: #f0f8ff;}#sk-container-id-2 div.sk-toggleable__content pre {margin: 0.2em;color: black;border-radius: 0.25em;background-color: #f0f8ff;}#sk-container-id-2 input.sk-toggleable__control:checked~div.sk-toggleable__content {max-height: 200px;max-width: 100%;overflow: auto;}#sk-container-id-2 input.sk-toggleable__control:checked~label.sk-toggleable__label-arrow:before {content: \"▾\";}#sk-container-id-2 div.sk-estimator input.sk-toggleable__control:checked~label.sk-toggleable__label {background-color: #d4ebff;}#sk-container-id-2 div.sk-label input.sk-toggleable__control:checked~label.sk-toggleable__label {background-color: #d4ebff;}#sk-container-id-2 input.sk-hidden--visually {border: 0;clip: rect(1px 1px 1px 1px);clip: rect(1px, 1px, 1px, 1px);height: 1px;margin: -1px;overflow: hidden;padding: 0;position: absolute;width: 1px;}#sk-container-id-2 div.sk-estimator {font-family: monospace;background-color: #f0f8ff;border: 1px dotted black;border-radius: 0.25em;box-sizing: border-box;margin-bottom: 0.5em;}#sk-container-id-2 div.sk-estimator:hover {background-color: #d4ebff;}#sk-container-id-2 div.sk-parallel-item::after {content: \"\";width: 100%;border-bottom: 1px solid gray;flex-grow: 1;}#sk-container-id-2 div.sk-label:hover label.sk-toggleable__label {background-color: #d4ebff;}#sk-container-id-2 div.sk-serial::before {content: \"\";position: absolute;border-left: 1px solid gray;box-sizing: border-box;top: 0;bottom: 0;left: 50%;z-index: 0;}#sk-container-id-2 div.sk-serial {display: flex;flex-direction: column;align-items: center;background-color: white;padding-right: 0.2em;padding-left: 0.2em;position: relative;}#sk-container-id-2 div.sk-item {position: relative;z-index: 1;}#sk-container-id-2 div.sk-parallel {display: flex;align-items: stretch;justify-content: center;background-color: white;position: relative;}#sk-container-id-2 div.sk-item::before, #sk-container-id-2 div.sk-parallel-item::before {content: \"\";position: absolute;border-left: 1px solid gray;box-sizing: border-box;top: 0;bottom: 0;left: 50%;z-index: -1;}#sk-container-id-2 div.sk-parallel-item {display: flex;flex-direction: column;z-index: 1;position: relative;background-color: white;}#sk-container-id-2 div.sk-parallel-item:first-child::after {align-self: flex-end;width: 50%;}#sk-container-id-2 div.sk-parallel-item:last-child::after {align-self: flex-start;width: 50%;}#sk-container-id-2 div.sk-parallel-item:only-child::after {width: 0;}#sk-container-id-2 div.sk-dashed-wrapped {border: 1px dashed gray;margin: 0 0.4em 0.5em 0.4em;box-sizing: border-box;padding-bottom: 0.4em;background-color: white;}#sk-container-id-2 div.sk-label label {font-family: monospace;font-weight: bold;display: inline-block;line-height: 1.2em;}#sk-container-id-2 div.sk-label-container {text-align: center;}#sk-container-id-2 div.sk-container {/* jupyter's `normalize.less` sets `[hidden] { display: none; }` but bootstrap.min.css set `[hidden] { display: none !important; }` so we also need the `!important` here to be able to override the default hidden behavior on the sphinx rendered scikit-learn.org. See: https://github.com/scikit-learn/scikit-learn/issues/21755 */display: inline-block !important;position: relative;}#sk-container-id-2 div.sk-text-repr-fallback {display: none;}</style><div id=\"sk-container-id-2\" class=\"sk-top-container\"><div class=\"sk-text-repr-fallback\"><pre>DecisionTreeClassifier()</pre><b>In a Jupyter environment, please rerun this cell to show the HTML representation or trust the notebook. <br />On GitHub, the HTML representation is unable to render, please try loading this page with nbviewer.org.</b></div><div class=\"sk-container\" hidden><div class=\"sk-item\"><div class=\"sk-estimator sk-toggleable\"><input class=\"sk-toggleable__control sk-hidden--visually\" id=\"sk-estimator-id-2\" type=\"checkbox\" checked><label for=\"sk-estimator-id-2\" class=\"sk-toggleable__label sk-toggleable__label-arrow\">DecisionTreeClassifier</label><div class=\"sk-toggleable__content\"><pre>DecisionTreeClassifier()</pre></div></div></div></div></div>"
      ],
      "text/plain": [
       "DecisionTreeClassifier()"
      ]
     },
     "execution_count": 16,
     "metadata": {},
     "output_type": "execute_result"
    }
   ],
   "source": [
    "#Training Decision Tree Classifier for better output\n",
    "tree = DecisionTreeClassifier()\n",
    "tree.fit(X_train,y_train)"
   ]
  },
  {
   "cell_type": "code",
   "execution_count": 17,
   "id": "r-_Y_UDMXrXK",
   "metadata": {
    "colab": {
     "base_uri": "https://localhost:8080/"
    },
    "id": "r-_Y_UDMXrXK",
    "outputId": "8275ac21-bf3f-4db2-e24f-bbfeb24d85ce"
   },
   "outputs": [
    {
     "name": "stdout",
     "output_type": "stream",
     "text": [
      "Accuracy Of Decision Tree is  97.82850779510022 %\n",
      "Accuracy of training data is  100.0 %\n"
     ]
    }
   ],
   "source": [
    "treePred = tree.predict(X_test)\n",
    "treeAcc = accuracy_score(y_test, treePred)\n",
    "print('Accuracy Of Decision Tree is ',treeAcc*100,'%')\n",
    "print('Accuracy of training data is ',accuracy_score(y_train,tree.predict(X_train))*100,\"%\")"
   ]
  },
  {
   "cell_type": "code",
   "execution_count": 18,
   "id": "0bad3fdf",
   "metadata": {},
   "outputs": [
    {
     "data": {
      "text/plain": [
       "0    947\n",
       "1    849\n",
       "Name: stroke, dtype: int64"
      ]
     },
     "execution_count": 18,
     "metadata": {},
     "output_type": "execute_result"
    }
   ],
   "source": [
    "y_test.value_counts()"
   ]
  },
  {
   "cell_type": "markdown",
   "id": "d81ae95a",
   "metadata": {},
   "source": [
    "#### Here we got 100% accuracy on training data So model is OVERFIT.\n",
    "#### Now we will perform tuning of the model to reduce the accuracy so that it will not OVERFIT."
   ]
  },
  {
   "cell_type": "code",
   "execution_count": 19,
   "id": "YtYQ4MmbVk1D",
   "metadata": {
    "colab": {
     "base_uri": "https://localhost:8080/",
     "height": 526
    },
    "id": "YtYQ4MmbVk1D",
    "outputId": "8f406fd7-19fb-4c2c-ea2c-60423d66b2f7"
   },
   "outputs": [
    {
     "data": {
      "image/png": "[encoded data removed]",
      "text/plain": [
       "<Figure size 648x648 with 2 Axes>"
      ]
     },
     "metadata": {
      "needs_background": "light"
     },
     "output_type": "display_data"
    }
   ],
   "source": [
    "#Confusion Matrix\n",
    "\n",
    "treeMat = confusion_matrix(y_test, treePred)\n",
    "\n",
    "plt.figure(figsize=(9,9))\n",
    "sns.heatmap(treeMat, annot=True, fmt=\".3f\", linewidths=.5, square = True, cmap = 'Blues_r');\n",
    "plt.ylabel('Actual label');\n",
    "plt.xlabel('Predicted label');\n",
    "all_sample_title = 'Accuracy Score: {}'.format(treeAcc*100)\n",
    "plt.title(all_sample_title, size = 15);"
   ]
  },
  {
   "cell_type": "markdown",
   "id": "64f9594f",
   "metadata": {},
   "source": [
    "### Feature importance"
   ]
  },
  {
   "cell_type": "code",
   "execution_count": 20,
   "id": "VRTjU1X3gzzV",
   "metadata": {
    "colab": {
     "base_uri": "https://localhost:8080/"
    },
    "id": "VRTjU1X3gzzV",
    "outputId": "a5b42cd6-db98-4880-a088-9ad3be12a311"
   },
   "outputs": [
    {
     "name": "stdout",
     "output_type": "stream",
     "text": [
      "{1: 0.44064050288598516, 6: 0.18320825084478598, 7: 0.17930512526463752, 17: 0.028593545859484776, 0: 0.022439219907435557, 2: 0.018643038289192202, 18: 0.01719518283561547, 12: 0.016060711942143268, 3: 0.015032927547435569, 15: 0.013481521607024522, 13: 0.013434433714442584, 4: 0.01147710374741122, 9: 0.010301075098058308, 5: 0.01026133593118801, 10: 0.010213482992165488, 16: 0.004933853925865075, 8: 0.00477868760712912, 11: 0.0, 14: 0.0}\n"
     ]
    }
   ],
   "source": [
    "#Getting feature importance\n",
    "#https://machinelearningmastery.com/calculate-feature-importance-with-python/\n",
    "\n",
    "\n",
    "#Feature importance is calculated by mapping individual features with output variable\n",
    "\n",
    "importance = tree.feature_importances_\n",
    "# summarize feature importance\n",
    "important_features_dict = {}\n",
    "for idx, val in enumerate(importance):\n",
    "    important_features_dict[idx] = val\n",
    "\n",
    "sorted_dict = {k: v for k, v in sorted(important_features_dict.items(), key=lambda item: item[1],reverse=True)}\n",
    "\n",
    "print(sorted_dict)"
   ]
  },
  {
   "cell_type": "code",
   "execution_count": 21,
   "id": "b51fdb4c",
   "metadata": {},
   "outputs": [
    {
     "name": "stdout",
     "output_type": "stream",
     "text": [
      "Index(['gender', 'age', 'hypertension', 'heart_disease', 'ever_married',\n",
      "       'Residence_type', 'avg_glucose_level', 'bmi', 'sugar_type', 'body_type',\n",
      "       'work_type_Govt_job', 'work_type_Never_worked', 'work_type_Private',\n",
      "       'work_type_Self-employed', 'work_type_children',\n",
      "       'smoking_status_Unknown', 'smoking_status_formerly smoked',\n",
      "       'smoking_status_never smoked', 'smoking_status_smokes'],\n",
      "      dtype='object')\n"
     ]
    },
    {
     "data": {
      "text/plain": [
       "array([0.02243922, 0.4406405 , 0.01864304, 0.01503293, 0.0114771 ,\n",
       "       0.01026134, 0.18320825, 0.17930513, 0.00477869, 0.01030108,\n",
       "       0.01021348, 0.        , 0.01606071, 0.01343443, 0.        ,\n",
       "       0.01348152, 0.00493385, 0.02859355, 0.01719518])"
      ]
     },
     "execution_count": 21,
     "metadata": {},
     "output_type": "execute_result"
    }
   ],
   "source": [
    "print(X.columns)\n",
    "tree.feature_importances_"
   ]
  },
  {
   "cell_type": "markdown",
   "id": "793d2da5",
   "metadata": {},
   "source": [
    "#### Feature importance chart for business purpose"
   ]
  },
  {
   "cell_type": "code",
   "execution_count": 22,
   "id": "RALsJU72gZt1",
   "metadata": {
    "colab": {
     "base_uri": "https://localhost:8080/",
     "height": 350
    },
    "id": "RALsJU72gZt1",
    "outputId": "f1f3add4-c4fe-4680-bd15-5d529f8959ec"
   },
   "outputs": [
    {
     "data": {
      "image/png": "[encoded data removed]",
      "text/plain": [
       "<Figure size 720x360 with 1 Axes>"
      ]
     },
     "metadata": {
      "needs_background": "light"
     },
     "output_type": "display_data"
    }
   ],
   "source": [
    "#Drawing horizontal bar graph for showing feature importance\n",
    "\n",
    "feas = list(sorted_dict.keys())\n",
    "vals = list(sorted_dict.values())\n",
    "features = []\n",
    "for i in feas:\n",
    "  features.append(X.columns[i])\n",
    "  \n",
    "fig = plt.figure(figsize = (10, 5))\n",
    " \n",
    "# creating the bar plot\n",
    "plt.barh(features, vals, color ='grey')\n",
    " \n",
    "plt.xlabel(\"Importance\")\n",
    "plt.ylabel(\"Feature\")\n",
    "plt.title(\"Feature Importance\")\n",
    "plt.show()"
   ]
  },
  {
   "cell_type": "markdown",
   "id": "ce8817b4",
   "metadata": {},
   "source": [
    "### Hyperparameter tuning"
   ]
  },
  {
   "cell_type": "code",
   "execution_count": 23,
   "id": "UgJHXDP9W3C7",
   "metadata": {
    "colab": {
     "base_uri": "https://localhost:8080/",
     "height": 387
    },
    "id": "UgJHXDP9W3C7",
    "outputId": "6665a7b6-26ab-4efe-9522-3cca536d5516"
   },
   "outputs": [
    {
     "name": "stdout",
     "output_type": "stream",
     "text": [
      "Optimal hyperparameter combination: {'min_samples_split': 3, 'min_samples_leaf': 3, 'max_depth': 20}\n",
      "\n",
      "Mean cross-validated training accuracy score: 0.9568481448622931\n"
     ]
    }
   ],
   "source": [
    "#Trying Hyperparameter tuning to see if we can increase the performance\n",
    "#https://www.tutorialspoint.com/scikit_learn/scikit_learn_decision_trees.htm\n",
    "#https://towardsdatascience.com/python-implementation-of-grid-search-and-random-search-for-hyperparameter-optimization-2d6a82ebf75c\n",
    "#Learned about Decision Tree Classifier\n",
    "\n",
    "import time\n",
    "start = time.time()\n",
    "\n",
    "# Defining 3-dimensional hyperparameter space as a Python dictionary\n",
    "hyperparameter_space = {'max_depth':[2,5,10,20], \n",
    "                        'min_samples_leaf':[3,7,11,16,20,27,25,40],\n",
    "                        'min_samples_split':[2,3,4,5,6,8,10]}\n",
    "\n",
    "from sklearn.model_selection import RandomizedSearchCV\n",
    "\n",
    "rs = RandomizedSearchCV(tree, param_distributions=hyperparameter_space,\n",
    "                        n_iter=10, scoring=\"accuracy\", random_state=0,\n",
    "                        n_jobs=-1, cv=10, return_train_score=True)\n",
    "\n",
    "#cv = Cross Validation\n",
    "#n_jobs = cpu core\n",
    "#scoring = accuracy/f1\n",
    "\n",
    "rs.fit(X_train, y_train)\n",
    "print(\"Optimal hyperparameter combination:\", rs.best_params_)\n",
    "print()\n",
    "print(\"Mean cross-validated training accuracy score:\",\n",
    "      rs.best_score_)\n",
    "best_tree = rs.best_estimator_.fit(X_train, y_train)\n",
    "y_pred = best_tree.predict(X_test) # Predictions\n",
    "y_true = y_test # True values\n"
   ]
  },
  {
   "cell_type": "code",
   "execution_count": 24,
   "id": "630275a5",
   "metadata": {},
   "outputs": [
    {
     "name": "stdout",
     "output_type": "stream",
     "text": [
      "f1_score :0.97\n",
      "Test accuracy: 0.97\n"
     ]
    }
   ],
   "source": [
    "#f1-score is used when there is imbalanced data ,because it takes into account both precision and recall\n",
    "#accuracy score is useful in estimating balanced data\n",
    "\n",
    "f1 = f1_score(y_true , y_pred)\n",
    "print(f\"f1_score :{np.round(f1,2)}\")\n",
    "\n",
    "tuned = accuracy_score(y_true, y_pred)\n",
    "print(\"Test accuracy:\", np.round(tuned, 2))"
   ]
  },
  {
   "cell_type": "markdown",
   "id": "594dbcb2",
   "metadata": {},
   "source": [
    "### confusion matrix"
   ]
  },
  {
   "cell_type": "code",
   "execution_count": 25,
   "id": "0a6bb0fb",
   "metadata": {},
   "outputs": [
    {
     "name": "stdout",
     "output_type": "stream",
     "text": [
      "Execution time of Random Search (in Seconds): 2.7010021209716797\n",
      "\n"
     ]
    },
    {
     "data": {
      "image/png": "[encoded data removed]",
      "text/plain": [
       "<Figure size 432x288 with 2 Axes>"
      ]
     },
     "metadata": {
      "needs_background": "light"
     },
     "output_type": "display_data"
    }
   ],
   "source": [
    "cf_matrix = confusion_matrix(y_true, y_pred)\n",
    "import seaborn as sns\n",
    "import matplotlib.pyplot as plt\n",
    "sns.heatmap(cf_matrix, annot=True, cmap='Blues')\n",
    "plt.xlabel('Predicted')\n",
    "plt.ylabel('True')\n",
    "\n",
    "end = time.time()\n",
    "diff = end - start\n",
    "print('Execution time of Random Search (in Seconds):', diff)\n",
    "print()"
   ]
  },
  {
   "cell_type": "markdown",
   "id": "38ec7abf",
   "metadata": {},
   "source": [
    "# Random Forest"
   ]
  },
  {
   "cell_type": "markdown",
   "id": "ba826c34",
   "metadata": {},
   "source": [
    "## We will use bagging algorithm to reduce the model overfitting that we saw in Decision tree"
   ]
  },
  {
   "cell_type": "code",
   "execution_count": 26,
   "id": "b1471953",
   "metadata": {},
   "outputs": [],
   "source": [
    "#No of trees in random forest\n",
    "n_estimators = [int(x) for x in np.linspace(start = 10, stop = 80 , num =10)]\n",
    "# features to consider at every split\n",
    "max_features = ['auto','sqrt']\n",
    "#Max no of levels in tree\n",
    "max_depth = [2,4]\n",
    "#Min no of samples to split the node\n",
    "min_samp_split = [2,5]\n",
    "#Min no of samples required at each node\n",
    "min_samp_leaf = [1,2]\n",
    "#method of selecting samples  for training each tree\n",
    "bootstrap=[True,False]"
   ]
  },
  {
   "cell_type": "code",
   "execution_count": 27,
   "id": "e1a34609",
   "metadata": {},
   "outputs": [],
   "source": [
    "#creating the param dictionary\n",
    "param_grid={\n",
    "    'n_estimators':n_estimators,\n",
    "    'max_features':max_features,\n",
    "    'max_depth':max_depth,\n",
    "    'min_samples_split':min_samp_split,\n",
    "    'min_samples_leaf':min_samp_leaf,\n",
    "    'bootstrap':bootstrap\n",
    "}"
   ]
  },
  {
   "cell_type": "code",
   "execution_count": 45,
   "id": "f5d11a5c",
   "metadata": {},
   "outputs": [
    {
     "name": "stdout",
     "output_type": "stream",
     "text": [
      "Fitting 10 folds for each of 320 candidates, totalling 3200 fits\n"
     ]
    },
    {
     "name": "stderr",
     "output_type": "stream",
     "text": [
      "C:\\Users\\snehe\\AppData\\Local\\Programs\\Python\\Python39\\lib\\site-packages\\sklearn\\ensemble\\_forest.py:427: FutureWarning: `max_features='auto'` has been deprecated in 1.1 and will be removed in 1.3. To keep the past behaviour, explicitly set `max_features='sqrt'` or remove this parameter as it is also the default value for RandomForestClassifiers and ExtraTreesClassifiers.\n",
      "  warn(\n"
     ]
    },
    {
     "data": {
      "text/html": [
       "<style>#sk-container-id-4 {color: black;background-color: white;}#sk-container-id-4 pre{padding: 0;}#sk-container-id-4 div.sk-toggleable {background-color: white;}#sk-container-id-4 label.sk-toggleable__label {cursor: pointer;display: block;width: 100%;margin-bottom: 0;padding: 0.3em;box-sizing: border-box;text-align: center;}#sk-container-id-4 label.sk-toggleable__label-arrow:before {content: \"▸\";float: left;margin-right: 0.25em;color: #696969;}#sk-container-id-4 label.sk-toggleable__label-arrow:hover:before {color: black;}#sk-container-id-4 div.sk-estimator:hover label.sk-toggleable__label-arrow:before {color: black;}#sk-container-id-4 div.sk-toggleable__content {max-height: 0;max-width: 0;overflow: hidden;text-align: left;background-color: #f0f8ff;}#sk-container-id-4 div.sk-toggleable__content pre {margin: 0.2em;color: black;border-radius: 0.25em;background-color: #f0f8ff;}#sk-container-id-4 input.sk-toggleable__control:checked~div.sk-toggleable__content {max-height: 200px;max-width: 100%;overflow: auto;}#sk-container-id-4 input.sk-toggleable__control:checked~label.sk-toggleable__label-arrow:before {content: \"▾\";}#sk-container-id-4 div.sk-estimator input.sk-toggleable__control:checked~label.sk-toggleable__label {background-color: #d4ebff;}#sk-container-id-4 div.sk-label input.sk-toggleable__control:checked~label.sk-toggleable__label {background-color: #d4ebff;}#sk-container-id-4 input.sk-hidden--visually {border: 0;clip: rect(1px 1px 1px 1px);clip: rect(1px, 1px, 1px, 1px);height: 1px;margin: -1px;overflow: hidden;padding: 0;position: absolute;width: 1px;}#sk-container-id-4 div.sk-estimator {font-family: monospace;background-color: #f0f8ff;border: 1px dotted black;border-radius: 0.25em;box-sizing: border-box;margin-bottom: 0.5em;}#sk-container-id-4 div.sk-estimator:hover {background-color: #d4ebff;}#sk-container-id-4 div.sk-parallel-item::after {content: \"\";width: 100%;border-bottom: 1px solid gray;flex-grow: 1;}#sk-container-id-4 div.sk-label:hover label.sk-toggleable__label {background-color: #d4ebff;}#sk-container-id-4 div.sk-serial::before {content: \"\";position: absolute;border-left: 1px solid gray;box-sizing: border-box;top: 0;bottom: 0;left: 50%;z-index: 0;}#sk-container-id-4 div.sk-serial {display: flex;flex-direction: column;align-items: center;background-color: white;padding-right: 0.2em;padding-left: 0.2em;position: relative;}#sk-container-id-4 div.sk-item {position: relative;z-index: 1;}#sk-container-id-4 div.sk-parallel {display: flex;align-items: stretch;justify-content: center;background-color: white;position: relative;}#sk-container-id-4 div.sk-item::before, #sk-container-id-4 div.sk-parallel-item::before {content: \"\";position: absolute;border-left: 1px solid gray;box-sizing: border-box;top: 0;bottom: 0;left: 50%;z-index: -1;}#sk-container-id-4 div.sk-parallel-item {display: flex;flex-direction: column;z-index: 1;position: relative;background-color: white;}#sk-container-id-4 div.sk-parallel-item:first-child::after {align-self: flex-end;width: 50%;}#sk-container-id-4 div.sk-parallel-item:last-child::after {align-self: flex-start;width: 50%;}#sk-container-id-4 div.sk-parallel-item:only-child::after {width: 0;}#sk-container-id-4 div.sk-dashed-wrapped {border: 1px dashed gray;margin: 0 0.4em 0.5em 0.4em;box-sizing: border-box;padding-bottom: 0.4em;background-color: white;}#sk-container-id-4 div.sk-label label {font-family: monospace;font-weight: bold;display: inline-block;line-height: 1.2em;}#sk-container-id-4 div.sk-label-container {text-align: center;}#sk-container-id-4 div.sk-container {/* jupyter's `normalize.less` sets `[hidden] { display: none; }` but bootstrap.min.css set `[hidden] { display: none !important; }` so we also need the `!important` here to be able to override the default hidden behavior on the sphinx rendered scikit-learn.org. See: https://github.com/scikit-learn/scikit-learn/issues/21755 */display: inline-block !important;position: relative;}#sk-container-id-4 div.sk-text-repr-fallback {display: none;}</style><div id=\"sk-container-id-4\" class=\"sk-top-container\"><div class=\"sk-text-repr-fallback\"><pre>GridSearchCV(cv=10, estimator=RandomForestClassifier(), n_jobs=4,\n",
       "             param_grid={&#x27;bootstrap&#x27;: [True, False], &#x27;max_depth&#x27;: [2, 4],\n",
       "                         &#x27;max_features&#x27;: [&#x27;auto&#x27;, &#x27;sqrt&#x27;],\n",
       "                         &#x27;min_samples_leaf&#x27;: [1, 2],\n",
       "                         &#x27;min_samples_split&#x27;: [2, 5],\n",
       "                         &#x27;n_estimators&#x27;: [10, 17, 25, 33, 41, 48, 56, 64, 72,\n",
       "                                          80]},\n",
       "             verbose=2)</pre><b>In a Jupyter environment, please rerun this cell to show the HTML representation or trust the notebook. <br />On GitHub, the HTML representation is unable to render, please try loading this page with nbviewer.org.</b></div><div class=\"sk-container\" hidden><div class=\"sk-item sk-dashed-wrapped\"><div class=\"sk-label-container\"><div class=\"sk-label sk-toggleable\"><input class=\"sk-toggleable__control sk-hidden--visually\" id=\"sk-estimator-id-6\" type=\"checkbox\" ><label for=\"sk-estimator-id-6\" class=\"sk-toggleable__label sk-toggleable__label-arrow\">GridSearchCV</label><div class=\"sk-toggleable__content\"><pre>GridSearchCV(cv=10, estimator=RandomForestClassifier(), n_jobs=4,\n",
       "             param_grid={&#x27;bootstrap&#x27;: [True, False], &#x27;max_depth&#x27;: [2, 4],\n",
       "                         &#x27;max_features&#x27;: [&#x27;auto&#x27;, &#x27;sqrt&#x27;],\n",
       "                         &#x27;min_samples_leaf&#x27;: [1, 2],\n",
       "                         &#x27;min_samples_split&#x27;: [2, 5],\n",
       "                         &#x27;n_estimators&#x27;: [10, 17, 25, 33, 41, 48, 56, 64, 72,\n",
       "                                          80]},\n",
       "             verbose=2)</pre></div></div></div><div class=\"sk-parallel\"><div class=\"sk-parallel-item\"><div class=\"sk-item\"><div class=\"sk-label-container\"><div class=\"sk-label sk-toggleable\"><input class=\"sk-toggleable__control sk-hidden--visually\" id=\"sk-estimator-id-7\" type=\"checkbox\" ><label for=\"sk-estimator-id-7\" class=\"sk-toggleable__label sk-toggleable__label-arrow\">estimator: RandomForestClassifier</label><div class=\"sk-toggleable__content\"><pre>RandomForestClassifier()</pre></div></div></div><div class=\"sk-serial\"><div class=\"sk-item\"><div class=\"sk-estimator sk-toggleable\"><input class=\"sk-toggleable__control sk-hidden--visually\" id=\"sk-estimator-id-8\" type=\"checkbox\" ><label for=\"sk-estimator-id-8\" class=\"sk-toggleable__label sk-toggleable__label-arrow\">RandomForestClassifier</label><div class=\"sk-toggleable__content\"><pre>RandomForestClassifier()</pre></div></div></div></div></div></div></div></div></div></div>"
      ],
      "text/plain": [
       "GridSearchCV(cv=10, estimator=RandomForestClassifier(), n_jobs=4,\n",
       "             param_grid={'bootstrap': [True, False], 'max_depth': [2, 4],\n",
       "                         'max_features': ['auto', 'sqrt'],\n",
       "                         'min_samples_leaf': [1, 2],\n",
       "                         'min_samples_split': [2, 5],\n",
       "                         'n_estimators': [10, 17, 25, 33, 41, 48, 56, 64, 72,\n",
       "                                          80]},\n",
       "             verbose=2)"
      ]
     },
     "execution_count": 45,
     "metadata": {},
     "output_type": "execute_result"
    }
   ],
   "source": [
    "# We have small dataset So we can use GridSearchCV to get best model because it does more combinations than RandomisedSeachCV\n",
    "\n",
    "rf = RandomForestClassifier()\n",
    "\n",
    "rf_grid = GridSearchCV(estimator=rf,param_grid=param_grid,cv=10,verbose=2,n_jobs=4 )\n",
    "rf_grid.fit(X_train , y_train)"
   ]
  },
  {
   "cell_type": "code",
   "execution_count": 29,
   "id": "802636f6",
   "metadata": {},
   "outputs": [
    {
     "data": {
      "text/plain": [
       "{'bootstrap': False,\n",
       " 'max_depth': 4,\n",
       " 'max_features': 'sqrt',\n",
       " 'min_samples_leaf': 2,\n",
       " 'min_samples_split': 5,\n",
       " 'n_estimators': 10}"
      ]
     },
     "execution_count": 29,
     "metadata": {},
     "output_type": "execute_result"
    }
   ],
   "source": [
    "rf_grid.best_params_"
   ]
  },
  {
   "cell_type": "markdown",
   "id": "931fac70",
   "metadata": {},
   "source": [
    "### Performance Metrics"
   ]
  },
  {
   "cell_type": "code",
   "execution_count": 46,
   "id": "416e5fd9",
   "metadata": {},
   "outputs": [
    {
     "name": "stdout",
     "output_type": "stream",
     "text": [
      "Accuracy Of Random Forest is  78.51 %\n",
      "Accuracy of training data is  78.65 %\n",
      "F1_Score of Random Forest is  0.79\n"
     ]
    }
   ],
   "source": [
    "rf_pred = rf_grid.predict(X_test)\n",
    "rf_Accuracy = accuracy_score(y_test, rf_pred)\n",
    "print('Accuracy Of Random Forest is ', np.round(rf_Accuracy*100,2),'%')\n",
    "print('Accuracy of training data is ',np.round(accuracy_score(y_train,rf_grid.predict(X_train))*100,2),\"%\")\n",
    "\n",
    "print('F1_Score of Random Forest is ',np.round(f1_score(y_test , rf_pred),2))"
   ]
  },
  {
   "cell_type": "markdown",
   "id": "fca62539",
   "metadata": {},
   "source": [
    "### Hence Model Overfitting is not there "
   ]
  },
  {
   "cell_type": "markdown",
   "id": "53cd4996",
   "metadata": {},
   "source": [
    "## Confusion Matrix for Random Forest"
   ]
  },
  {
   "cell_type": "code",
   "execution_count": 47,
   "id": "e652abef",
   "metadata": {},
   "outputs": [
    {
     "data": {
      "image/png": "[encoded data removed]",
      "text/plain": [
       "<Figure size 648x648 with 2 Axes>"
      ]
     },
     "metadata": {
      "needs_background": "light"
     },
     "output_type": "display_data"
    }
   ],
   "source": [
    "#Confusion Matrix\n",
    "\n",
    "efMat = confusion_matrix(y_test, rf_pred)\n",
    "\n",
    "plt.figure(figsize=(9,9))\n",
    "sns.heatmap(efMat, annot=True, fmt=\".3f\", linewidths=.5, square = True, cmap = 'Blues_r');\n",
    "plt.ylabel('Actual label');\n",
    "plt.xlabel('Predicted label');\n",
    "all_sample_title = 'Accuracy Score: {}'.format(rf_Accuracy*100)\n",
    "plt.title(all_sample_title, size = 15);"
   ]
  },
  {
   "cell_type": "code",
   "execution_count": 32,
   "id": "RIJJB0V9ZJ70",
   "metadata": {
    "colab": {
     "base_uri": "https://localhost:8080/"
    },
    "id": "RIJJB0V9ZJ70",
    "outputId": "cc21ef24-8c6b-4e56-e9b6-ac749aa5417a"
   },
   "outputs": [
    {
     "name": "stdout",
     "output_type": "stream",
     "text": [
      "+------------------------------------+----------+\n",
      "|               MODEL.               | Accuracy |\n",
      "+------------------------------------+----------+\n",
      "|        Logistic Regression         |   0.76   |\n",
      "|       DecisionTreeClassifier       |   0.98   |\n",
      "| DecisionTreeClassifier with Tuning |   0.97   |\n",
      "|       RandomForestClassifier       |   0.77   |\n",
      "+------------------------------------+----------+\n"
     ]
    }
   ],
   "source": [
    "from prettytable import PrettyTable\n",
    "PTables = PrettyTable()\n",
    "\n",
    "PTables = PrettyTable()\n",
    "PTables.field_names = [\"MODEL.\",\"Accuracy\"]\n",
    "PTables.add_row([\"Logistic Regression\",np.round(BaseAcc,2)])\n",
    "PTables.add_row([\"DecisionTreeClassifier\",np.round(treeAcc,2)])\n",
    "PTables.add_row([\"DecisionTreeClassifier with Tuning\",np.round(tuned,2)])\n",
    "PTables.add_row([\"RandomForestClassifier\",np.round(rf_Accuracy,2)])\n",
    "print(PTables)"
   ]
  },
  {
   "cell_type": "markdown",
   "id": "bb0496f5",
   "metadata": {},
   "source": [
    "## Pickling\n",
    "### Pickling the model(converting it into byte stream) so that we can store it and load it,we don't have to train it another time."
   ]
  },
  {
   "cell_type": "code",
   "execution_count": 33,
   "id": "7_cqfV07qWjJ",
   "metadata": {
    "id": "7_cqfV07qWjJ"
   },
   "outputs": [],
   "source": [
    "pickle.dump(best_tree,open(\"decision_tree_model\",'wb'))\n",
    "pickle.dump(rf_grid,open(\"random_forest_model\",'wb'))"
   ]
  },
  {
   "cell_type": "code",
   "execution_count": 34,
   "id": "535ae459",
   "metadata": {},
   "outputs": [],
   "source": [
    "best_tree = pickle.load(open(\"decision_tree_model\",'rb'))\n",
    "rf_grid = pickle.load(open(\"random_forest_model\",'rb'))"
   ]
  }
 ],
 "metadata": {
  "colab": {
   "name": "Model.ipynb",
   "provenance": []
  },
  "kernelspec": {
   "display_name": "Python 3 (ipykernel)",
   "language": "python",
   "name": "python3"
  },
  "language_info": {
   "codemirror_mode": {
    "name": "ipython",
    "version": 3
   },
   "file_extension": ".py",
   "mimetype": "text/x-python",
   "name": "python",
   "nbconvert_exporter": "python",
   "pygments_lexer": "ipython3",
   "version": "3.9.13"
  }
 },
 "nbformat": 4,
 "nbformat_minor": 5
}
