{
 "cells": [
  {
   "cell_type": "code",
   "execution_count": 1,
   "id": "141fee73",
   "metadata": {
    "id": "141fee73"
   },
   "outputs": [],
   "source": [
    "import pandas as pd\n",
    "import seaborn as sns\n",
    "import numpy as np\n",
    "import matplotlib.pyplot as plt\n",
    "from sklearn.preprocessing import OneHotEncoder\n",
    "from sklearn.preprocessing import MinMaxScaler\n",
    "from sklearn.model_selection import train_test_split\n",
    "from collections import Counter\n",
    "from imblearn.over_sampling import RandomOverSampler\n",
    "from sklearn.linear_model import LogisticRegression\n",
    "from sklearn.metrics import accuracy_score,confusion_matrix\n",
    "from sklearn.tree import DecisionTreeClassifier,plot_tree\n",
    "from scipy.stats import uniform\n",
    "from sklearn.model_selection import RandomizedSearchCV"
   ]
  },
  {
   "cell_type": "code",
   "execution_count": 2,
   "id": "ebf7e784",
   "metadata": {
    "id": "ebf7e784"
   },
   "outputs": [],
   "source": [
    "df = pd.read_csv(\"Updated_health.csv\")"
   ]
  },
  {
   "cell_type": "markdown",
   "id": "c82341e7",
   "metadata": {
    "id": "c82341e7"
   },
   "source": [
    "# Sampling the data"
   ]
  },
  {
   "cell_type": "code",
   "execution_count": 3,
   "id": "709d3a74",
   "metadata": {
    "colab": {
     "base_uri": "https://localhost:8080/"
    },
    "id": "709d3a74",
    "outputId": "c9705358-2910-41c5-d0b0-d85a63714afb"
   },
   "outputs": [
    {
     "data": {
      "text/plain": [
       "0    4861\n",
       "1     249\n",
       "Name: stroke, dtype: int64"
      ]
     },
     "execution_count": 3,
     "metadata": {},
     "output_type": "execute_result"
    }
   ],
   "source": [
    "df['stroke'].value_counts()\n",
    "#Here we have imbalanced data so we need to sample the data, to prevent biasness"
   ]
  },
  {
   "cell_type": "code",
   "execution_count": 4,
   "id": "d4e695e4",
   "metadata": {
    "colab": {
     "base_uri": "https://localhost:8080/"
    },
    "id": "d4e695e4",
    "outputId": "fe450248-a335-432f-be6f-5f7643f85529"
   },
   "outputs": [
    {
     "data": {
      "text/plain": [
       "0    76118\n",
       "1     3882\n",
       "Name: stroke, dtype: int64"
      ]
     },
     "execution_count": 4,
     "metadata": {},
     "output_type": "execute_result"
    }
   ],
   "source": [
    "#Creating sampled dataframe\n",
    "sampled_df = df.sample(n=80000,replace=True)\n",
    "sampled_df['stroke'].value_counts()"
   ]
  },
  {
   "cell_type": "code",
   "execution_count": 5,
   "id": "a7f2f515",
   "metadata": {
    "id": "a7f2f515"
   },
   "outputs": [
    {
     "name": "stderr",
     "output_type": "stream",
     "text": [
      "C:\\Users\\snehe\\AppData\\Local\\Temp\\ipykernel_14472\\9201069.py:7: FutureWarning: The frame.append method is deprecated and will be removed from pandas in a future version. Use pandas.concat instead.\n",
      "  sampled_filtered = sampled_filtered.append(sampled_df.iloc[[i]],ignore_index=True)\n"
     ]
    }
   ],
   "source": [
    "#Creating another dataframe that will contain sampled data of people who got an stroke\n",
    "\n",
    "sampled_filtered=pd.DataFrame()\n",
    "\n",
    "for i in range(len(sampled_df['stroke'])):\n",
    "    if list(sampled_df['stroke'].iloc[[i]])[0] == 1:\n",
    "        sampled_filtered = sampled_filtered.append(sampled_df.iloc[[i]],ignore_index=True)"
   ]
  },
  {
   "cell_type": "code",
   "execution_count": 6,
   "id": "ce8a8acb",
   "metadata": {
    "colab": {
     "base_uri": "https://localhost:8080/"
    },
    "id": "ce8a8acb",
    "outputId": "5f1f7f65-b075-4e92-99cc-84d4671ea5d7"
   },
   "outputs": [
    {
     "data": {
      "text/plain": [
       "1    3882\n",
       "Name: stroke, dtype: int64"
      ]
     },
     "execution_count": 6,
     "metadata": {},
     "output_type": "execute_result"
    }
   ],
   "source": [
    "sampled_filtered['stroke'].value_counts()\n",
    "#Now we can add this sampled data which will balance the dataset in terms of output variable"
   ]
  },
  {
   "cell_type": "code",
   "execution_count": 7,
   "id": "8b23de34",
   "metadata": {
    "colab": {
     "base_uri": "https://localhost:8080/"
    },
    "id": "8b23de34",
    "outputId": "1097dec6-01a3-409e-ff1f-9a0b3fbe04b9"
   },
   "outputs": [
    {
     "name": "stderr",
     "output_type": "stream",
     "text": [
      "C:\\Users\\snehe\\AppData\\Local\\Temp\\ipykernel_14472\\1899824783.py:4: FutureWarning: The frame.append method is deprecated and will be removed from pandas in a future version. Use pandas.concat instead.\n",
      "  df = df.append(sampled_filtered,ignore_index=True)\n"
     ]
    },
    {
     "data": {
      "text/plain": [
       "0    4861\n",
       "1    4131\n",
       "Name: stroke, dtype: int64"
      ]
     },
     "execution_count": 7,
     "metadata": {},
     "output_type": "execute_result"
    }
   ],
   "source": [
    "#adding sampled data to main data frame\n",
    "#ignore index ensures no extra index is added\n",
    "\n",
    "df = df.append(sampled_filtered,ignore_index=True)\n",
    "df['stroke'].value_counts()\n",
    "\n",
    "#Now we have balanced dataset"
   ]
  },
  {
   "cell_type": "code",
   "execution_count": 8,
   "id": "4caa1d03",
   "metadata": {
    "id": "4caa1d03"
   },
   "outputs": [],
   "source": [
    "df.drop(columns=['Unnamed: 0'],inplace=True)"
   ]
  },
  {
   "cell_type": "code",
   "execution_count": 9,
   "id": "a9165224",
   "metadata": {
    "colab": {
     "base_uri": "https://localhost:8080/"
    },
    "id": "a9165224",
    "outputId": "aae6f680-dda6-421c-c03b-6bfd44852a7b"
   },
   "outputs": [
    {
     "data": {
      "text/plain": [
       "Index(['id', 'gender', 'age', 'hypertension', 'heart_disease', 'ever_married',\n",
       "       'Residence_type', 'avg_glucose_level', 'bmi', 'stroke', 'sugar_type',\n",
       "       'body_type', 'work_type_Govt_job', 'work_type_Never_worked',\n",
       "       'work_type_Private', 'work_type_Self-employed', 'work_type_children',\n",
       "       'smoking_status_Unknown', 'smoking_status_formerly smoked',\n",
       "       'smoking_status_never smoked', 'smoking_status_smokes'],\n",
       "      dtype='object')"
      ]
     },
     "execution_count": 9,
     "metadata": {},
     "output_type": "execute_result"
    }
   ],
   "source": [
    "df.columns"
   ]
  },
  {
   "cell_type": "code",
   "execution_count": 10,
   "id": "bc37e116",
   "metadata": {
    "id": "bc37e116"
   },
   "outputs": [],
   "source": [
    "X = df.copy()    #we have to use copy otherwise changes will be made to the original variable"
   ]
  },
  {
   "cell_type": "code",
   "execution_count": 11,
   "id": "98011049",
   "metadata": {
    "id": "98011049"
   },
   "outputs": [],
   "source": [
    "y = X['stroke']\n",
    "X.drop(['stroke','id'],axis = 1,inplace = True)"
   ]
  },
  {
   "cell_type": "code",
   "execution_count": 12,
   "id": "R9JW0BKCScF1",
   "metadata": {
    "colab": {
     "base_uri": "https://localhost:8080/"
    },
    "id": "R9JW0BKCScF1",
    "outputId": "141f45bc-aa9f-4759-d9d4-e48638dcc826"
   },
   "outputs": [
    {
     "data": {
      "text/plain": [
       "Index(['gender', 'age', 'hypertension', 'heart_disease', 'ever_married',\n",
       "       'Residence_type', 'avg_glucose_level', 'bmi', 'sugar_type', 'body_type',\n",
       "       'work_type_Govt_job', 'work_type_Never_worked', 'work_type_Private',\n",
       "       'work_type_Self-employed', 'work_type_children',\n",
       "       'smoking_status_Unknown', 'smoking_status_formerly smoked',\n",
       "       'smoking_status_never smoked', 'smoking_status_smokes'],\n",
       "      dtype='object')"
      ]
     },
     "execution_count": 12,
     "metadata": {},
     "output_type": "execute_result"
    }
   ],
   "source": [
    "X.columns"
   ]
  },
  {
   "cell_type": "code",
   "execution_count": 13,
   "id": "flZMz8JfS7l2",
   "metadata": {
    "id": "flZMz8JfS7l2"
   },
   "outputs": [],
   "source": [
    "#Splitting the data into train and test with 20% for testing\n",
    "#Random state remembers the splitting to be same next time\n",
    "X_train, X_test, y_train, y_test = train_test_split(X, y, test_size=0.20, random_state=42)"
   ]
  },
  {
   "cell_type": "markdown",
   "id": "b2734a36",
   "metadata": {},
   "source": [
    "## Logistic Regression"
   ]
  },
  {
   "cell_type": "code",
   "execution_count": 14,
   "id": "myJM6AFaTXDX",
   "metadata": {
    "colab": {
     "base_uri": "https://localhost:8080/"
    },
    "id": "myJM6AFaTXDX",
    "outputId": "b34d58fa-03ca-4439-a75b-37b041419eea"
   },
   "outputs": [
    {
     "name": "stderr",
     "output_type": "stream",
     "text": [
      "C:\\Users\\snehe\\AppData\\Local\\Programs\\Python\\Python39\\lib\\site-packages\\sklearn\\linear_model\\_logistic.py:444: ConvergenceWarning: lbfgs failed to converge (status=1):\n",
      "STOP: TOTAL NO. of ITERATIONS REACHED LIMIT.\n",
      "\n",
      "Increase the number of iterations (max_iter) or scale the data as shown in:\n",
      "    https://scikit-learn.org/stable/modules/preprocessing.html\n",
      "Please also refer to the documentation for alternative solver options:\n",
      "    https://scikit-learn.org/stable/modules/linear_model.html#logistic-regression\n",
      "  n_iter_i = _check_optimize_result(\n"
     ]
    },
    {
     "data": {
      "text/html": [
       "<style>#sk-container-id-1 {color: black;background-color: white;}#sk-container-id-1 pre{padding: 0;}#sk-container-id-1 div.sk-toggleable {background-color: white;}#sk-container-id-1 label.sk-toggleable__label {cursor: pointer;display: block;width: 100%;margin-bottom: 0;padding: 0.3em;box-sizing: border-box;text-align: center;}#sk-container-id-1 label.sk-toggleable__label-arrow:before {content: \"▸\";float: left;margin-right: 0.25em;color: #696969;}#sk-container-id-1 label.sk-toggleable__label-arrow:hover:before {color: black;}#sk-container-id-1 div.sk-estimator:hover label.sk-toggleable__label-arrow:before {color: black;}#sk-container-id-1 div.sk-toggleable__content {max-height: 0;max-width: 0;overflow: hidden;text-align: left;background-color: #f0f8ff;}#sk-container-id-1 div.sk-toggleable__content pre {margin: 0.2em;color: black;border-radius: 0.25em;background-color: #f0f8ff;}#sk-container-id-1 input.sk-toggleable__control:checked~div.sk-toggleable__content {max-height: 200px;max-width: 100%;overflow: auto;}#sk-container-id-1 input.sk-toggleable__control:checked~label.sk-toggleable__label-arrow:before {content: \"▾\";}#sk-container-id-1 div.sk-estimator input.sk-toggleable__control:checked~label.sk-toggleable__label {background-color: #d4ebff;}#sk-container-id-1 div.sk-label input.sk-toggleable__control:checked~label.sk-toggleable__label {background-color: #d4ebff;}#sk-container-id-1 input.sk-hidden--visually {border: 0;clip: rect(1px 1px 1px 1px);clip: rect(1px, 1px, 1px, 1px);height: 1px;margin: -1px;overflow: hidden;padding: 0;position: absolute;width: 1px;}#sk-container-id-1 div.sk-estimator {font-family: monospace;background-color: #f0f8ff;border: 1px dotted black;border-radius: 0.25em;box-sizing: border-box;margin-bottom: 0.5em;}#sk-container-id-1 div.sk-estimator:hover {background-color: #d4ebff;}#sk-container-id-1 div.sk-parallel-item::after {content: \"\";width: 100%;border-bottom: 1px solid gray;flex-grow: 1;}#sk-container-id-1 div.sk-label:hover label.sk-toggleable__label {background-color: #d4ebff;}#sk-container-id-1 div.sk-serial::before {content: \"\";position: absolute;border-left: 1px solid gray;box-sizing: border-box;top: 0;bottom: 0;left: 50%;z-index: 0;}#sk-container-id-1 div.sk-serial {display: flex;flex-direction: column;align-items: center;background-color: white;padding-right: 0.2em;padding-left: 0.2em;position: relative;}#sk-container-id-1 div.sk-item {position: relative;z-index: 1;}#sk-container-id-1 div.sk-parallel {display: flex;align-items: stretch;justify-content: center;background-color: white;position: relative;}#sk-container-id-1 div.sk-item::before, #sk-container-id-1 div.sk-parallel-item::before {content: \"\";position: absolute;border-left: 1px solid gray;box-sizing: border-box;top: 0;bottom: 0;left: 50%;z-index: -1;}#sk-container-id-1 div.sk-parallel-item {display: flex;flex-direction: column;z-index: 1;position: relative;background-color: white;}#sk-container-id-1 div.sk-parallel-item:first-child::after {align-self: flex-end;width: 50%;}#sk-container-id-1 div.sk-parallel-item:last-child::after {align-self: flex-start;width: 50%;}#sk-container-id-1 div.sk-parallel-item:only-child::after {width: 0;}#sk-container-id-1 div.sk-dashed-wrapped {border: 1px dashed gray;margin: 0 0.4em 0.5em 0.4em;box-sizing: border-box;padding-bottom: 0.4em;background-color: white;}#sk-container-id-1 div.sk-label label {font-family: monospace;font-weight: bold;display: inline-block;line-height: 1.2em;}#sk-container-id-1 div.sk-label-container {text-align: center;}#sk-container-id-1 div.sk-container {/* jupyter's `normalize.less` sets `[hidden] { display: none; }` but bootstrap.min.css set `[hidden] { display: none !important; }` so we also need the `!important` here to be able to override the default hidden behavior on the sphinx rendered scikit-learn.org. See: https://github.com/scikit-learn/scikit-learn/issues/21755 */display: inline-block !important;position: relative;}#sk-container-id-1 div.sk-text-repr-fallback {display: none;}</style><div id=\"sk-container-id-1\" class=\"sk-top-container\"><div class=\"sk-text-repr-fallback\"><pre>LogisticRegression()</pre><b>In a Jupyter environment, please rerun this cell to show the HTML representation or trust the notebook. <br />On GitHub, the HTML representation is unable to render, please try loading this page with nbviewer.org.</b></div><div class=\"sk-container\" hidden><div class=\"sk-item\"><div class=\"sk-estimator sk-toggleable\"><input class=\"sk-toggleable__control sk-hidden--visually\" id=\"sk-estimator-id-1\" type=\"checkbox\" checked><label for=\"sk-estimator-id-1\" class=\"sk-toggleable__label sk-toggleable__label-arrow\">LogisticRegression</label><div class=\"sk-toggleable__content\"><pre>LogisticRegression()</pre></div></div></div></div></div>"
      ],
      "text/plain": [
       "LogisticRegression()"
      ]
     },
     "execution_count": 14,
     "metadata": {},
     "output_type": "execute_result"
    }
   ],
   "source": [
    "#Training Base Model\n",
    "BaseModel = LogisticRegression()\n",
    "BaseModel.fit(X_train,y_train)"
   ]
  },
  {
   "cell_type": "code",
   "execution_count": 15,
   "id": "IeVqZqqZUKhr",
   "metadata": {
    "colab": {
     "base_uri": "https://localhost:8080/"
    },
    "id": "IeVqZqqZUKhr",
    "outputId": "c8057f7b-73dd-4fd1-a27f-3be83b78ef8c",
    "scrolled": true
   },
   "outputs": [
    {
     "name": "stdout",
     "output_type": "stream",
     "text": [
      "Accuracy on Training data, 0.7703322674822745\n",
      "Accuracy Of Base Model is  0.7626459143968871\n"
     ]
    }
   ],
   "source": [
    "BasePred = BaseModel.predict(X_test)\n",
    "BaseAcc = accuracy_score(y_test, BasePred)\n",
    "print('Accuracy on Training data,',accuracy_score(y_train, BaseModel.predict(X_train)))\n",
    "print('Accuracy Of Base Model is ',BaseAcc)"
   ]
  },
  {
   "cell_type": "markdown",
   "id": "b3c72c79",
   "metadata": {},
   "source": [
    "### Decision Tree Classifier"
   ]
  },
  {
   "cell_type": "markdown",
   "id": "765c49f0",
   "metadata": {},
   "source": [
    "Which is computationally complex than logistic regression, because it creates tree.\n",
    "In case of very large datasets decision tree can be very heavy algorithm but here we have comparably small dataset so we can make use of it."
   ]
  },
  {
   "cell_type": "code",
   "execution_count": 16,
   "id": "oTe5cGJ-XQWX",
   "metadata": {
    "colab": {
     "base_uri": "https://localhost:8080/"
    },
    "id": "oTe5cGJ-XQWX",
    "outputId": "dfd529f2-7f79-471e-dae5-1622ace3bf8c"
   },
   "outputs": [
    {
     "data": {
      "text/html": [
       "<style>#sk-container-id-2 {color: black;background-color: white;}#sk-container-id-2 pre{padding: 0;}#sk-container-id-2 div.sk-toggleable {background-color: white;}#sk-container-id-2 label.sk-toggleable__label {cursor: pointer;display: block;width: 100%;margin-bottom: 0;padding: 0.3em;box-sizing: border-box;text-align: center;}#sk-container-id-2 label.sk-toggleable__label-arrow:before {content: \"▸\";float: left;margin-right: 0.25em;color: #696969;}#sk-container-id-2 label.sk-toggleable__label-arrow:hover:before {color: black;}#sk-container-id-2 div.sk-estimator:hover label.sk-toggleable__label-arrow:before {color: black;}#sk-container-id-2 div.sk-toggleable__content {max-height: 0;max-width: 0;overflow: hidden;text-align: left;background-color: #f0f8ff;}#sk-container-id-2 div.sk-toggleable__content pre {margin: 0.2em;color: black;border-radius: 0.25em;background-color: #f0f8ff;}#sk-container-id-2 input.sk-toggleable__control:checked~div.sk-toggleable__content {max-height: 200px;max-width: 100%;overflow: auto;}#sk-container-id-2 input.sk-toggleable__control:checked~label.sk-toggleable__label-arrow:before {content: \"▾\";}#sk-container-id-2 div.sk-estimator input.sk-toggleable__control:checked~label.sk-toggleable__label {background-color: #d4ebff;}#sk-container-id-2 div.sk-label input.sk-toggleable__control:checked~label.sk-toggleable__label {background-color: #d4ebff;}#sk-container-id-2 input.sk-hidden--visually {border: 0;clip: rect(1px 1px 1px 1px);clip: rect(1px, 1px, 1px, 1px);height: 1px;margin: -1px;overflow: hidden;padding: 0;position: absolute;width: 1px;}#sk-container-id-2 div.sk-estimator {font-family: monospace;background-color: #f0f8ff;border: 1px dotted black;border-radius: 0.25em;box-sizing: border-box;margin-bottom: 0.5em;}#sk-container-id-2 div.sk-estimator:hover {background-color: #d4ebff;}#sk-container-id-2 div.sk-parallel-item::after {content: \"\";width: 100%;border-bottom: 1px solid gray;flex-grow: 1;}#sk-container-id-2 div.sk-label:hover label.sk-toggleable__label {background-color: #d4ebff;}#sk-container-id-2 div.sk-serial::before {content: \"\";position: absolute;border-left: 1px solid gray;box-sizing: border-box;top: 0;bottom: 0;left: 50%;z-index: 0;}#sk-container-id-2 div.sk-serial {display: flex;flex-direction: column;align-items: center;background-color: white;padding-right: 0.2em;padding-left: 0.2em;position: relative;}#sk-container-id-2 div.sk-item {position: relative;z-index: 1;}#sk-container-id-2 div.sk-parallel {display: flex;align-items: stretch;justify-content: center;background-color: white;position: relative;}#sk-container-id-2 div.sk-item::before, #sk-container-id-2 div.sk-parallel-item::before {content: \"\";position: absolute;border-left: 1px solid gray;box-sizing: border-box;top: 0;bottom: 0;left: 50%;z-index: -1;}#sk-container-id-2 div.sk-parallel-item {display: flex;flex-direction: column;z-index: 1;position: relative;background-color: white;}#sk-container-id-2 div.sk-parallel-item:first-child::after {align-self: flex-end;width: 50%;}#sk-container-id-2 div.sk-parallel-item:last-child::after {align-self: flex-start;width: 50%;}#sk-container-id-2 div.sk-parallel-item:only-child::after {width: 0;}#sk-container-id-2 div.sk-dashed-wrapped {border: 1px dashed gray;margin: 0 0.4em 0.5em 0.4em;box-sizing: border-box;padding-bottom: 0.4em;background-color: white;}#sk-container-id-2 div.sk-label label {font-family: monospace;font-weight: bold;display: inline-block;line-height: 1.2em;}#sk-container-id-2 div.sk-label-container {text-align: center;}#sk-container-id-2 div.sk-container {/* jupyter's `normalize.less` sets `[hidden] { display: none; }` but bootstrap.min.css set `[hidden] { display: none !important; }` so we also need the `!important` here to be able to override the default hidden behavior on the sphinx rendered scikit-learn.org. See: https://github.com/scikit-learn/scikit-learn/issues/21755 */display: inline-block !important;position: relative;}#sk-container-id-2 div.sk-text-repr-fallback {display: none;}</style><div id=\"sk-container-id-2\" class=\"sk-top-container\"><div class=\"sk-text-repr-fallback\"><pre>DecisionTreeClassifier()</pre><b>In a Jupyter environment, please rerun this cell to show the HTML representation or trust the notebook. <br />On GitHub, the HTML representation is unable to render, please try loading this page with nbviewer.org.</b></div><div class=\"sk-container\" hidden><div class=\"sk-item\"><div class=\"sk-estimator sk-toggleable\"><input class=\"sk-toggleable__control sk-hidden--visually\" id=\"sk-estimator-id-2\" type=\"checkbox\" checked><label for=\"sk-estimator-id-2\" class=\"sk-toggleable__label sk-toggleable__label-arrow\">DecisionTreeClassifier</label><div class=\"sk-toggleable__content\"><pre>DecisionTreeClassifier()</pre></div></div></div></div></div>"
      ],
      "text/plain": [
       "DecisionTreeClassifier()"
      ]
     },
     "execution_count": 16,
     "metadata": {},
     "output_type": "execute_result"
    }
   ],
   "source": [
    "#Training Decision Tree Classifier for better output\n",
    "tree = DecisionTreeClassifier()\n",
    "tree.fit(X_train,y_train)"
   ]
  },
  {
   "cell_type": "code",
   "execution_count": 17,
   "id": "r-_Y_UDMXrXK",
   "metadata": {
    "colab": {
     "base_uri": "https://localhost:8080/"
    },
    "id": "r-_Y_UDMXrXK",
    "outputId": "8275ac21-bf3f-4db2-e24f-bbfeb24d85ce"
   },
   "outputs": [
    {
     "name": "stdout",
     "output_type": "stream",
     "text": [
      "Accuracy Of Decision Tree is  97.1650917176209 %\n",
      "Accuracy of training data is  100.0 %\n"
     ]
    }
   ],
   "source": [
    "treePred = tree.predict(X_test)\n",
    "treeAcc = accuracy_score(y_test, treePred)\n",
    "print('Accuracy Of Decision Tree is ',treeAcc*100,'%')\n",
    "print('Accuracy of training data is ',accuracy_score(y_train,tree.predict(X_train))*100,\"%\")"
   ]
  },
  {
   "cell_type": "code",
   "execution_count": 18,
   "id": "0bad3fdf",
   "metadata": {},
   "outputs": [
    {
     "data": {
      "text/plain": [
       "0    957\n",
       "1    842\n",
       "Name: stroke, dtype: int64"
      ]
     },
     "execution_count": 18,
     "metadata": {},
     "output_type": "execute_result"
    }
   ],
   "source": [
    "y_test.value_counts()"
   ]
  },
  {
   "cell_type": "markdown",
   "id": "d81ae95a",
   "metadata": {},
   "source": [
    "Here we got 100% accuracy on training data So model is OVERFIT.\n",
    "Now we will perform tuning of the model to reduce the accuracy so that it will not OVERFIT."
   ]
  },
  {
   "cell_type": "code",
   "execution_count": 19,
   "id": "YtYQ4MmbVk1D",
   "metadata": {
    "colab": {
     "base_uri": "https://localhost:8080/",
     "height": 526
    },
    "id": "YtYQ4MmbVk1D",
    "outputId": "8f406fd7-19fb-4c2c-ea2c-60423d66b2f7"
   },
   "outputs": [
    {
     "data": {
      "image/png": "[encoded data removed]",
      "text/plain": [
       "<Figure size 648x648 with 2 Axes>"
      ]
     },
     "metadata": {
      "needs_background": "light"
     },
     "output_type": "display_data"
    }
   ],
   "source": [
    "#Confusion Matrix\n",
    "\n",
    "treeMat = confusion_matrix(y_test, treePred)\n",
    "\n",
    "plt.figure(figsize=(9,9))\n",
    "sns.heatmap(treeMat, annot=True, fmt=\".3f\", linewidths=.5, square = True, cmap = 'Blues_r');\n",
    "plt.ylabel('Actual label');\n",
    "plt.xlabel('Predicted label');\n",
    "all_sample_title = 'Accuracy Score: {}'.format(treeAcc*100)\n",
    "plt.title(all_sample_title, size = 15);"
   ]
  },
  {
   "cell_type": "code",
   "execution_count": 31,
   "id": "VRTjU1X3gzzV",
   "metadata": {
    "colab": {
     "base_uri": "https://localhost:8080/"
    },
    "id": "VRTjU1X3gzzV",
    "outputId": "a5b42cd6-db98-4880-a088-9ad3be12a311"
   },
   "outputs": [
    {
     "name": "stdout",
     "output_type": "stream",
     "text": [
      "{1: 0.4304002909157126, 6: 0.20442123367193107, 7: 0.18814365951515333, 0: 0.02831609430974439, 17: 0.027366640816817094, 2: 0.02110014781526617, 12: 0.01389875891951762, 13: 0.012779561293185469, 4: 0.011525622102946186, 5: 0.010335653711806165, 3: 0.009891866855666042, 9: 0.009547639513476773, 18: 0.008475992153799666, 16: 0.007193577698328993, 15: 0.006701941264094571, 10: 0.006208365872876681, 8: 0.0036929535696772118, 11: 0.0, 14: 0.0}\n"
     ]
    }
   ],
   "source": [
    "#Getting feature importance\n",
    "#https://machinelearningmastery.com/calculate-feature-importance-with-python/\n",
    "\n",
    "\n",
    "#Feature importance is calculated by mapping individual features with output variable\n",
    "\n",
    "importance = tree.feature_importances_\n",
    "# summarize feature importance\n",
    "important_features_dict = {}\n",
    "for idx, val in enumerate(importance):\n",
    "    important_features_dict[idx] = val\n",
    "\n",
    "sorted_dict = {k: v for k, v in sorted(important_features_dict.items(), key=lambda item: item[1],reverse=True)}\n",
    "\"\"\"\n",
    "sorted_value_index = np.argsort(important_features_dict.values())\n",
    "dictionary_keys = list(important_features_dict.keys())\n",
    "sorted_dict = {dictionary_keys[i]: sorted(\n",
    "    important_features_dict.values(),reverse=True)[i] for i in range(len(dictionary_keys))}\n",
    "print(sorted_dict)\n",
    "\"\"\"\n",
    "print(sorted_dict)"
   ]
  },
  {
   "cell_type": "code",
   "execution_count": 32,
   "id": "b51fdb4c",
   "metadata": {},
   "outputs": [
    {
     "name": "stdout",
     "output_type": "stream",
     "text": [
      "Index(['gender', 'age', 'hypertension', 'heart_disease', 'ever_married',\n",
      "       'Residence_type', 'avg_glucose_level', 'bmi', 'sugar_type', 'body_type',\n",
      "       'work_type_Govt_job', 'work_type_Never_worked', 'work_type_Private',\n",
      "       'work_type_Self-employed', 'work_type_children',\n",
      "       'smoking_status_Unknown', 'smoking_status_formerly smoked',\n",
      "       'smoking_status_never smoked', 'smoking_status_smokes'],\n",
      "      dtype='object')\n"
     ]
    },
    {
     "data": {
      "text/plain": [
       "array([0.02831609, 0.43040029, 0.02110015, 0.00989187, 0.01152562,\n",
       "       0.01033565, 0.20442123, 0.18814366, 0.00369295, 0.00954764,\n",
       "       0.00620837, 0.        , 0.01389876, 0.01277956, 0.        ,\n",
       "       0.00670194, 0.00719358, 0.02736664, 0.00847599])"
      ]
     },
     "execution_count": 32,
     "metadata": {},
     "output_type": "execute_result"
    }
   ],
   "source": [
    "print(X.columns)\n",
    "tree.feature_importances_"
   ]
  },
  {
   "cell_type": "code",
   "execution_count": 37,
   "id": "RALsJU72gZt1",
   "metadata": {
    "colab": {
     "base_uri": "https://localhost:8080/",
     "height": 350
    },
    "id": "RALsJU72gZt1",
    "outputId": "f1f3add4-c4fe-4680-bd15-5d529f8959ec"
   },
   "outputs": [
    {
     "data": {
      "image/png": "[encoded data removed]",
      "text/plain": [
       "<Figure size 720x360 with 1 Axes>"
      ]
     },
     "metadata": {
      "needs_background": "light"
     },
     "output_type": "display_data"
    }
   ],
   "source": [
    "#Drawing horizontal bar graph for showing feature importance\n",
    "\n",
    "feas = list(sorted_dict.keys())\n",
    "vals = list(sorted_dict.values())\n",
    "features = []\n",
    "for i in feas:\n",
    "  features.append(X.columns[i])\n",
    "  \n",
    "fig = plt.figure(figsize = (10, 5))\n",
    " \n",
    "# creating the bar plot\n",
    "plt.barh(features, vals, color ='grey')\n",
    " \n",
    "plt.xlabel(\"Importance\")\n",
    "plt.ylabel(\"Feature\")\n",
    "plt.title(\"Feature Importance\")\n",
    "plt.show()"
   ]
  },
  {
   "cell_type": "code",
   "execution_count": 28,
   "id": "UgJHXDP9W3C7",
   "metadata": {
    "colab": {
     "base_uri": "https://localhost:8080/",
     "height": 387
    },
    "id": "UgJHXDP9W3C7",
    "outputId": "6665a7b6-26ab-4efe-9522-3cca536d5516"
   },
   "outputs": [
    {
     "name": "stdout",
     "output_type": "stream",
     "text": [
      "Optimal hyperparameter combination: {'min_samples_split': 3, 'min_samples_leaf': 3, 'max_depth': 20}\n",
      "\n",
      "Mean cross-validated training accuracy score: 0.9585709318497913\n",
      "Test accuracy: 0.96\n",
      "Execution time of Random Search (in Seconds): 2.742659568786621\n",
      "\n"
     ]
    },
    {
     "data": {
      "image/png": "[encoded data removed]",
      "text/plain": [
       "<Figure size 432x288 with 2 Axes>"
      ]
     },
     "metadata": {
      "needs_background": "light"
     },
     "output_type": "display_data"
    }
   ],
   "source": [
    "#Trying Hyperparameter tuning to see if we can increase the performance\n",
    "#https://www.tutorialspoint.com/scikit_learn/scikit_learn_decision_trees.htm\n",
    "#https://towardsdatascience.com/python-implementation-of-grid-search-and-random-search-for-hyperparameter-optimization-2d6a82ebf75c\n",
    "#Learned about Decision Tree Classifier\n",
    "import time\n",
    "start = time.time()\n",
    "\n",
    "# Defining 3-dimensional hyperparameter space as a Python dictionary\n",
    "hyperparameter_space = {'max_depth':[2,5,10,20], \n",
    "                        'min_samples_leaf':[3,7,11,16,20,27,25,40],\n",
    "                        'min_samples_split':[2,3,4,5,6,8,10]}\n",
    "\n",
    "from sklearn.model_selection import RandomizedSearchCV\n",
    "rs = RandomizedSearchCV(tree, param_distributions=hyperparameter_space,\n",
    "                        n_iter=10, scoring=\"accuracy\", random_state=0,\n",
    "                        n_jobs=-1, cv=10, return_train_score=True)\n",
    "\n",
    "#cv = Cross Validation\n",
    "#n_jobs = cpu core\n",
    "#scoring = accuracy/f1\n",
    "\n",
    "rs.fit(X_train, y_train)\n",
    "print(\"Optimal hyperparameter combination:\", rs.best_params_)\n",
    "print()\n",
    "print(\"Mean cross-validated training accuracy score:\",\n",
    "      rs.best_score_)\n",
    "rs.best_estimator_.fit(X_train, y_train)\n",
    "y_pred = rs.best_estimator_.predict(X_test) # Predictions\n",
    "y_true = y_test # True values\n",
    "\n",
    "tuned = accuracy_score(y_true, y_pred)\n",
    "\n",
    "print(\"Test accuracy:\", np.round(accuracy_score(y_true, y_pred), 2))\n",
    "cf_matrix = confusion_matrix(y_true, y_pred)\n",
    "import seaborn as sns\n",
    "import matplotlib.pyplot as plt\n",
    "sns.heatmap(cf_matrix, annot=True, cmap='Blues')\n",
    "plt.xlabel('Predicted')\n",
    "plt.ylabel('True')\n",
    "\n",
    "end = time.time()\n",
    "diff = end - start\n",
    "print('Execution time of Random Search (in Seconds):', diff)\n",
    "print()"
   ]
  },
  {
   "cell_type": "code",
   "execution_count": 29,
   "id": "RIJJB0V9ZJ70",
   "metadata": {
    "colab": {
     "base_uri": "https://localhost:8080/"
    },
    "id": "RIJJB0V9ZJ70",
    "outputId": "cc21ef24-8c6b-4e56-e9b6-ac749aa5417a"
   },
   "outputs": [
    {
     "name": "stdout",
     "output_type": "stream",
     "text": [
      "+------------------------------------+----------+\n",
      "|               MODEL.               | Accuracy |\n",
      "+------------------------------------+----------+\n",
      "|        Logistic Regression         |   0.76   |\n",
      "|       DecisionTreeClassifier       |   0.97   |\n",
      "| DecisionTreeClassifier with Tuning |   0.96   |\n",
      "+------------------------------------+----------+\n"
     ]
    }
   ],
   "source": [
    "from prettytable import PrettyTable\n",
    "PTables = PrettyTable()\n",
    "\n",
    "PTables = PrettyTable()\n",
    "PTables.field_names = [\"MODEL.\",\"Accuracy\"]\n",
    "PTables.add_row([\"Logistic Regression\",np.round(BaseAcc,2)])\n",
    "PTables.add_row([\"DecisionTreeClassifier\",np.round(treeAcc,2)])\n",
    "PTables.add_row([\"DecisionTreeClassifier with Tuning\",np.round(tuned,2)])\n",
    "print(PTables)"
   ]
  },
  {
   "cell_type": "code",
   "execution_count": null,
   "id": "7_cqfV07qWjJ",
   "metadata": {
    "id": "7_cqfV07qWjJ"
   },
   "outputs": [],
   "source": []
  }
 ],
 "metadata": {
  "colab": {
   "name": "Model.ipynb",
   "provenance": []
  },
  "kernelspec": {
   "display_name": "Python 3 (ipykernel)",
   "language": "python",
   "name": "python3"
  },
  "language_info": {
   "codemirror_mode": {
    "name": "ipython",
    "version": 3
   },
   "file_extension": ".py",
   "mimetype": "text/x-python",
   "name": "python",
   "nbconvert_exporter": "python",
   "pygments_lexer": "ipython3",
   "version": "3.9.13"
  }
 },
 "nbformat": 4,
 "nbformat_minor": 5
}
