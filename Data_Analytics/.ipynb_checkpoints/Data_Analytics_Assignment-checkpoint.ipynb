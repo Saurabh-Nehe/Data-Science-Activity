{
 "cells": [
  {
   "cell_type": "markdown",
   "id": "76013ec9",
   "metadata": {},
   "source": [
    "Importing the required libraries and loading the dataset"
   ]
  },
  {
   "cell_type": "code",
   "execution_count": 1,
   "id": "74f368c4",
   "metadata": {},
   "outputs": [],
   "source": [
    "import pandas as pd\n",
    "import seaborn as sns\n",
    "import numpy as np\n",
    "import matplotlib.pyplot as plt\n",
    "import sklearn\n",
    "from sklearn.preprocessing import OneHotEncoder\n",
    "from sklearn.preprocessing import MinMaxScaler\n",
    "from collections import Counter"
   ]
  },
  {
   "cell_type": "code",
   "execution_count": 2,
   "id": "c845e5ce",
   "metadata": {},
   "outputs": [],
   "source": [
    "df = pd.read_csv(\"healthcare-dataset-stroke-data.csv\")\n",
    "#CSV and notebook is in same folder ,So name is passed directly"
   ]
  },
  {
   "cell_type": "code",
   "execution_count": 3,
   "id": "ec803bd7",
   "metadata": {},
   "outputs": [
    {
     "data": {
      "text/html": [
       "<div>\n",
       "<style scoped>\n",
       "    .dataframe tbody tr th:only-of-type {\n",
       "        vertical-align: middle;\n",
       "    }\n",
       "\n",
       "    .dataframe tbody tr th {\n",
       "        vertical-align: top;\n",
       "    }\n",
       "\n",
       "    .dataframe thead th {\n",
       "        text-align: right;\n",
       "    }\n",
       "</style>\n",
       "<table border=\"1\" class=\"dataframe\">\n",
       "  <thead>\n",
       "    <tr style=\"text-align: right;\">\n",
       "      <th></th>\n",
       "      <th>id</th>\n",
       "      <th>gender</th>\n",
       "      <th>age</th>\n",
       "      <th>hypertension</th>\n",
       "      <th>heart_disease</th>\n",
       "      <th>ever_married</th>\n",
       "      <th>work_type</th>\n",
       "      <th>Residence_type</th>\n",
       "      <th>avg_glucose_level</th>\n",
       "      <th>bmi</th>\n",
       "      <th>smoking_status</th>\n",
       "      <th>stroke</th>\n",
       "    </tr>\n",
       "  </thead>\n",
       "  <tbody>\n",
       "    <tr>\n",
       "      <th>0</th>\n",
       "      <td>9046</td>\n",
       "      <td>Male</td>\n",
       "      <td>67.0</td>\n",
       "      <td>0</td>\n",
       "      <td>1</td>\n",
       "      <td>Yes</td>\n",
       "      <td>Private</td>\n",
       "      <td>Urban</td>\n",
       "      <td>228.69</td>\n",
       "      <td>36.6</td>\n",
       "      <td>formerly smoked</td>\n",
       "      <td>1</td>\n",
       "    </tr>\n",
       "    <tr>\n",
       "      <th>1</th>\n",
       "      <td>51676</td>\n",
       "      <td>Female</td>\n",
       "      <td>61.0</td>\n",
       "      <td>0</td>\n",
       "      <td>0</td>\n",
       "      <td>Yes</td>\n",
       "      <td>Self-employed</td>\n",
       "      <td>Rural</td>\n",
       "      <td>202.21</td>\n",
       "      <td>NaN</td>\n",
       "      <td>never smoked</td>\n",
       "      <td>1</td>\n",
       "    </tr>\n",
       "    <tr>\n",
       "      <th>2</th>\n",
       "      <td>31112</td>\n",
       "      <td>Male</td>\n",
       "      <td>80.0</td>\n",
       "      <td>0</td>\n",
       "      <td>1</td>\n",
       "      <td>Yes</td>\n",
       "      <td>Private</td>\n",
       "      <td>Rural</td>\n",
       "      <td>105.92</td>\n",
       "      <td>32.5</td>\n",
       "      <td>never smoked</td>\n",
       "      <td>1</td>\n",
       "    </tr>\n",
       "    <tr>\n",
       "      <th>3</th>\n",
       "      <td>60182</td>\n",
       "      <td>Female</td>\n",
       "      <td>49.0</td>\n",
       "      <td>0</td>\n",
       "      <td>0</td>\n",
       "      <td>Yes</td>\n",
       "      <td>Private</td>\n",
       "      <td>Urban</td>\n",
       "      <td>171.23</td>\n",
       "      <td>34.4</td>\n",
       "      <td>smokes</td>\n",
       "      <td>1</td>\n",
       "    </tr>\n",
       "    <tr>\n",
       "      <th>4</th>\n",
       "      <td>1665</td>\n",
       "      <td>Female</td>\n",
       "      <td>79.0</td>\n",
       "      <td>1</td>\n",
       "      <td>0</td>\n",
       "      <td>Yes</td>\n",
       "      <td>Self-employed</td>\n",
       "      <td>Rural</td>\n",
       "      <td>174.12</td>\n",
       "      <td>24.0</td>\n",
       "      <td>never smoked</td>\n",
       "      <td>1</td>\n",
       "    </tr>\n",
       "    <tr>\n",
       "      <th>5</th>\n",
       "      <td>56669</td>\n",
       "      <td>Male</td>\n",
       "      <td>81.0</td>\n",
       "      <td>0</td>\n",
       "      <td>0</td>\n",
       "      <td>Yes</td>\n",
       "      <td>Private</td>\n",
       "      <td>Urban</td>\n",
       "      <td>186.21</td>\n",
       "      <td>29.0</td>\n",
       "      <td>formerly smoked</td>\n",
       "      <td>1</td>\n",
       "    </tr>\n",
       "    <tr>\n",
       "      <th>6</th>\n",
       "      <td>53882</td>\n",
       "      <td>Male</td>\n",
       "      <td>74.0</td>\n",
       "      <td>1</td>\n",
       "      <td>1</td>\n",
       "      <td>Yes</td>\n",
       "      <td>Private</td>\n",
       "      <td>Rural</td>\n",
       "      <td>70.09</td>\n",
       "      <td>27.4</td>\n",
       "      <td>never smoked</td>\n",
       "      <td>1</td>\n",
       "    </tr>\n",
       "    <tr>\n",
       "      <th>7</th>\n",
       "      <td>10434</td>\n",
       "      <td>Female</td>\n",
       "      <td>69.0</td>\n",
       "      <td>0</td>\n",
       "      <td>0</td>\n",
       "      <td>No</td>\n",
       "      <td>Private</td>\n",
       "      <td>Urban</td>\n",
       "      <td>94.39</td>\n",
       "      <td>22.8</td>\n",
       "      <td>never smoked</td>\n",
       "      <td>1</td>\n",
       "    </tr>\n",
       "    <tr>\n",
       "      <th>8</th>\n",
       "      <td>27419</td>\n",
       "      <td>Female</td>\n",
       "      <td>59.0</td>\n",
       "      <td>0</td>\n",
       "      <td>0</td>\n",
       "      <td>Yes</td>\n",
       "      <td>Private</td>\n",
       "      <td>Rural</td>\n",
       "      <td>76.15</td>\n",
       "      <td>NaN</td>\n",
       "      <td>Unknown</td>\n",
       "      <td>1</td>\n",
       "    </tr>\n",
       "    <tr>\n",
       "      <th>9</th>\n",
       "      <td>60491</td>\n",
       "      <td>Female</td>\n",
       "      <td>78.0</td>\n",
       "      <td>0</td>\n",
       "      <td>0</td>\n",
       "      <td>Yes</td>\n",
       "      <td>Private</td>\n",
       "      <td>Urban</td>\n",
       "      <td>58.57</td>\n",
       "      <td>24.2</td>\n",
       "      <td>Unknown</td>\n",
       "      <td>1</td>\n",
       "    </tr>\n",
       "  </tbody>\n",
       "</table>\n",
       "</div>"
      ],
      "text/plain": [
       "      id  gender   age  hypertension  heart_disease ever_married  \\\n",
       "0   9046    Male  67.0             0              1          Yes   \n",
       "1  51676  Female  61.0             0              0          Yes   \n",
       "2  31112    Male  80.0             0              1          Yes   \n",
       "3  60182  Female  49.0             0              0          Yes   \n",
       "4   1665  Female  79.0             1              0          Yes   \n",
       "5  56669    Male  81.0             0              0          Yes   \n",
       "6  53882    Male  74.0             1              1          Yes   \n",
       "7  10434  Female  69.0             0              0           No   \n",
       "8  27419  Female  59.0             0              0          Yes   \n",
       "9  60491  Female  78.0             0              0          Yes   \n",
       "\n",
       "       work_type Residence_type  avg_glucose_level   bmi   smoking_status  \\\n",
       "0        Private          Urban             228.69  36.6  formerly smoked   \n",
       "1  Self-employed          Rural             202.21   NaN     never smoked   \n",
       "2        Private          Rural             105.92  32.5     never smoked   \n",
       "3        Private          Urban             171.23  34.4           smokes   \n",
       "4  Self-employed          Rural             174.12  24.0     never smoked   \n",
       "5        Private          Urban             186.21  29.0  formerly smoked   \n",
       "6        Private          Rural              70.09  27.4     never smoked   \n",
       "7        Private          Urban              94.39  22.8     never smoked   \n",
       "8        Private          Rural              76.15   NaN          Unknown   \n",
       "9        Private          Urban              58.57  24.2          Unknown   \n",
       "\n",
       "   stroke  \n",
       "0       1  \n",
       "1       1  \n",
       "2       1  \n",
       "3       1  \n",
       "4       1  \n",
       "5       1  \n",
       "6       1  \n",
       "7       1  \n",
       "8       1  \n",
       "9       1  "
      ]
     },
     "execution_count": 3,
     "metadata": {},
     "output_type": "execute_result"
    }
   ],
   "source": [
    "df.head(10)"
   ]
  },
  {
   "cell_type": "code",
   "execution_count": 4,
   "id": "b4fec6ac",
   "metadata": {},
   "outputs": [],
   "source": [
    "Total_Records = len(df)"
   ]
  },
  {
   "cell_type": "code",
   "execution_count": 5,
   "id": "fd8bd84d",
   "metadata": {},
   "outputs": [
    {
     "data": {
      "text/plain": [
       "5110"
      ]
     },
     "execution_count": 5,
     "metadata": {},
     "output_type": "execute_result"
    }
   ],
   "source": [
    "Total_Records"
   ]
  },
  {
   "cell_type": "code",
   "execution_count": 6,
   "id": "2a1b6df2",
   "metadata": {},
   "outputs": [
    {
     "data": {
      "text/plain": [
       "{'id': 0,\n",
       " 'gender': 0,\n",
       " 'age': 0,\n",
       " 'hypertension': 0,\n",
       " 'heart_disease': 0,\n",
       " 'ever_married': 0,\n",
       " 'work_type': 0,\n",
       " 'Residence_type': 0,\n",
       " 'avg_glucose_level': 0,\n",
       " 'bmi': 201,\n",
       " 'smoking_status': 0,\n",
       " 'stroke': 0}"
      ]
     },
     "execution_count": 6,
     "metadata": {},
     "output_type": "execute_result"
    }
   ],
   "source": [
    "Column_wise_Null_Count = dict(df.isnull().sum())\n",
    "Column_wise_Null_Count"
   ]
  },
  {
   "cell_type": "code",
   "execution_count": 7,
   "id": "e7fbee14",
   "metadata": {},
   "outputs": [
    {
     "data": {
      "text/plain": [
       "201"
      ]
     },
     "execution_count": 7,
     "metadata": {},
     "output_type": "execute_result"
    }
   ],
   "source": [
    "Total_Null_Count= sum(df.isnull().sum())\n",
    "Total_Null_Count"
   ]
  },
  {
   "cell_type": "markdown",
   "id": "1315eed6",
   "metadata": {},
   "source": [
    "rounding off the metrics upto 2 decimal places for readability"
   ]
  },
  {
   "cell_type": "code",
   "execution_count": 8,
   "id": "6992b3ff",
   "metadata": {},
   "outputs": [],
   "source": [
    "Age_Median = round(df['age'].median(),2)\n",
    "Age_Mean = round(df['age'].mean(),2)\n",
    "Age_Mode = round(df['age'].mode(),2)\n",
    "Age_Std_dev = round(df['age'].std(),2)"
   ]
  },
  {
   "cell_type": "code",
   "execution_count": 9,
   "id": "4801091f",
   "metadata": {},
   "outputs": [],
   "source": [
    "Avg_Glucose_Level_Median = round(df['avg_glucose_level'].median(),2)\n",
    "Avg_Glucose_Level_Mean = round(df['avg_glucose_level'].mean(),2)\n",
    "Avg_Glucose_Level_Mode = round(df['avg_glucose_level'].mode(),2)\n",
    "Avg_Glucose_Level_Std_dev = round(df['avg_glucose_level'].std(),2)"
   ]
  },
  {
   "cell_type": "code",
   "execution_count": 10,
   "id": "e54333d1",
   "metadata": {},
   "outputs": [],
   "source": [
    "BMI_Median = round(df['bmi'].median(),2)\n",
    "BMI_Mean = round(df['bmi'].mean(),2)\n",
    "BMI_Mode = round(df['bmi'].mode(),2)\n",
    "BMI_Std_dev = round(df['bmi'].std(),2)"
   ]
  },
  {
   "cell_type": "markdown",
   "id": "df2358a3",
   "metadata": {},
   "source": [
    "Bins parameter is used for number of buckets to fill, for more clear view"
   ]
  },
  {
   "cell_type": "code",
   "execution_count": 11,
   "id": "a2b2d034",
   "metadata": {},
   "outputs": [
    {
     "data": {
      "text/plain": [
       "<AxesSubplot:>"
      ]
     },
     "execution_count": 11,
     "metadata": {},
     "output_type": "execute_result"
    },
    {
     "data": {
      "image/png": "[encoded data removed]",
      "text/plain": [
       "<Figure size 432x288 with 1 Axes>"
      ]
     },
     "metadata": {
      "needs_background": "light"
     },
     "output_type": "display_data"
    }
   ],
   "source": [
    "df['bmi'].hist(bins=150)"
   ]
  },
  {
   "cell_type": "markdown",
   "id": "dd75e993",
   "metadata": {},
   "source": [
    "From above histogram we can conclude that many number of people have bmi between 20 to 40.\n",
    "Also Mean , Median , Mode values of BMI are almost equal .So we can say that Distribution of BMI is symmetrical."
   ]
  },
  {
   "cell_type": "code",
   "execution_count": 12,
   "id": "7ff47118",
   "metadata": {},
   "outputs": [
    {
     "name": "stderr",
     "output_type": "stream",
     "text": [
      "C:\\Users\\snehe\\AppData\\Local\\Temp\\ipykernel_18060\\2274777951.py:12: FutureWarning: Index.ravel returning ndarray is deprecated; in a future version this will return a view on self.\n",
      "  fig = (df.groupby(pd.cut(df.age, bins, labels=labels)).heart_disease.mean()*100).dropna().to_frame('Heart_Disease_Probability')\n"
     ]
    },
    {
     "data": {
      "text/plain": [
       "<AxesSubplot:xlabel='age'>"
      ]
     },
     "execution_count": 12,
     "metadata": {},
     "output_type": "execute_result"
    },
    {
     "data": {
      "image/png": "[encoded data removed]",
      "text/plain": [
       "<Figure size 432x288 with 1 Axes>"
      ]
     },
     "metadata": {
      "needs_background": "light"
     },
     "output_type": "display_data"
    }
   ],
   "source": [
    "#plt.plot(df['age'],df['heart_disease'])\n",
    "# Used linspace to create bins within 0 to 100 range with bin size of 10\n",
    "\n",
    "bins = np.linspace(0, 100, 11)\n",
    "labels = bins[1:]\n",
    "\n",
    "# without labels it will put range of bins as labels in x axis elements\n",
    "\n",
    "# grouping all ages by bins 10, 20, 30, .., 100\n",
    "# What we are doing is filling the bins with ages and taking mean of heart disease corresponding to that particular bin ages and multiplied by 100 for using as percentile.\n",
    "#with dropna ignoring Null values \n",
    "fig = (df.groupby(pd.cut(df.age, bins, labels=labels)).heart_disease.mean()*100).dropna().to_frame('Heart_Disease_Probability')\n",
    "\n",
    "fig.plot.bar()"
   ]
  },
  {
   "cell_type": "markdown",
   "id": "4428f26d",
   "metadata": {},
   "source": [
    "from Above plot we concluded that more the age more the risk of heart disease"
   ]
  },
  {
   "cell_type": "code",
   "execution_count": 13,
   "id": "e812d50f",
   "metadata": {},
   "outputs": [
    {
     "data": {
      "text/plain": [
       "201"
      ]
     },
     "execution_count": 13,
     "metadata": {},
     "output_type": "execute_result"
    }
   ],
   "source": [
    "Null_Count = df['bmi'].isnull().sum()\n",
    "Null_Count\n",
    "#bmi has null values"
   ]
  },
  {
   "cell_type": "code",
   "execution_count": 14,
   "id": "9ceb7d75",
   "metadata": {},
   "outputs": [
    {
     "name": "stdout",
     "output_type": "stream",
     "text": [
      "BMI column has 3.93% Null Values\n"
     ]
    }
   ],
   "source": [
    "print(f\"BMI column has {round((Null_Count/len(df['bmi']))*100,2)}% Null Values\")\n"
   ]
  },
  {
   "cell_type": "code",
   "execution_count": 15,
   "id": "70052232",
   "metadata": {},
   "outputs": [],
   "source": [
    "#used inplace for making changes directly into dataframe\n",
    "#As the distribution is symmetrical, mean would be appropriate \n",
    "df['bmi'].fillna(round(df['bmi'].mean(),1),inplace=True)"
   ]
  },
  {
   "cell_type": "code",
   "execution_count": 16,
   "id": "611f6dcf",
   "metadata": {},
   "outputs": [
    {
     "data": {
      "text/plain": [
       "0"
      ]
     },
     "execution_count": 16,
     "metadata": {},
     "output_type": "execute_result"
    }
   ],
   "source": [
    "Null_Count = df['bmi'].isnull().sum()\n",
    "Null_Count"
   ]
  },
  {
   "cell_type": "markdown",
   "id": "7687bd95",
   "metadata": {},
   "source": [
    "Removing Outlier using z score\n",
    "As Z score depicts the deviation from normal meanof a value\n",
    "We will remove all values which has z score beyond 3"
   ]
  },
  {
   "cell_type": "code",
   "execution_count": 17,
   "id": "954fe3b8",
   "metadata": {},
   "outputs": [
    {
     "data": {
      "text/plain": [
       "59"
      ]
     },
     "execution_count": 17,
     "metadata": {},
     "output_type": "execute_result"
    }
   ],
   "source": [
    "from scipy import stats\n",
    "import numpy as np\n",
    " \n",
    "z_bmi = np.abs(stats.zscore(df['bmi']))\n",
    "len([x for x in z_bmi if x > 3])"
   ]
  },
  {
   "cell_type": "markdown",
   "id": "125606e7",
   "metadata": {},
   "source": [
    "We got 59 values as outliers of BMI which has z score above 3 which is roughly 1% of the total dataset length"
   ]
  },
  {
   "cell_type": "code",
   "execution_count": 18,
   "id": "65f97c2f",
   "metadata": {},
   "outputs": [
    {
     "data": {
      "text/plain": [
       "49"
      ]
     },
     "execution_count": 18,
     "metadata": {},
     "output_type": "execute_result"
    }
   ],
   "source": [
    "z_avg_glucose = np.abs(stats.zscore(df['avg_glucose_level']))\n",
    "len([x for x in z_avg_glucose if x > 3])"
   ]
  },
  {
   "cell_type": "markdown",
   "id": "456c0140",
   "metadata": {},
   "source": [
    "we got 49 values as outliers of avg_glucose which has z score above 3 which is again roughly 1% of the total dataset length"
   ]
  },
  {
   "cell_type": "code",
   "execution_count": 19,
   "id": "a1d81186",
   "metadata": {},
   "outputs": [
    {
     "name": "stderr",
     "output_type": "stream",
     "text": [
      "C:\\Users\\snehe\\AppData\\Local\\Temp\\ipykernel_18060\\2351860975.py:4: SettingWithCopyWarning: \n",
      "A value is trying to be set on a copy of a slice from a DataFrame\n",
      "\n",
      "See the caveats in the documentation: https://pandas.pydata.org/pandas-docs/stable/user_guide/indexing.html#returning-a-view-versus-a-copy\n",
      "  df['avg_glucose_level'][i]=Avg_Glucose_Level_Mode\n"
     ]
    }
   ],
   "source": [
    "#Here I am filling outliers with mode\n",
    "for i in range(len(z_avg_glucose)):\n",
    "    if z_avg_glucose[i] > 3:\n",
    "        df['avg_glucose_level'][i]=Avg_Glucose_Level_Mode"
   ]
  },
  {
   "cell_type": "markdown",
   "id": "acd293d0",
   "metadata": {},
   "source": [
    "Filling the outliers values with mode"
   ]
  },
  {
   "cell_type": "code",
   "execution_count": 20,
   "id": "8edd29f0",
   "metadata": {},
   "outputs": [
    {
     "name": "stderr",
     "output_type": "stream",
     "text": [
      "C:\\Users\\snehe\\AppData\\Local\\Temp\\ipykernel_18060\\236822539.py:4: SettingWithCopyWarning: \n",
      "A value is trying to be set on a copy of a slice from a DataFrame\n",
      "\n",
      "See the caveats in the documentation: https://pandas.pydata.org/pandas-docs/stable/user_guide/indexing.html#returning-a-view-versus-a-copy\n",
      "  df['bmi'][i]=BMI_Mode\n"
     ]
    }
   ],
   "source": [
    "#Here I am filling outliers with mode\n",
    "for i in range(len(z_bmi)):\n",
    "    if z_bmi[i] > 3:\n",
    "        df['bmi'][i]=BMI_Mode"
   ]
  },
  {
   "cell_type": "markdown",
   "id": "70d66b3a",
   "metadata": {},
   "source": [
    "## Feature adding"
   ]
  },
  {
   "cell_type": "markdown",
   "id": "37cb0a76",
   "metadata": {},
   "source": [
    "I have created one feature \"sugar_type\" based upon \"avg_glucose_level\" feature\n",
    "Where avg_glucose_level less than 140 is normal (annoted as 0)\n",
    "      avg_glucose_level between 141 and 160 is impaired glucose(annoted as 1)\n",
    "      avg_glucose_level from 161 and above is   diabetic (annoted as 2)\n",
    "      \n",
    "here i have annoted this feature using 0,1,2 in the first place rather than converting it afterwards.\n",
    "Here ordinality matters that's why I have used 0,1,2\n",
    "      "
   ]
  },
  {
   "cell_type": "code",
   "execution_count": 21,
   "id": "5038bf60",
   "metadata": {},
   "outputs": [],
   "source": [
    "def classifier(sugar):\n",
    "    if sugar <=140:\n",
    "        return 0\n",
    "    elif sugar <= 160:\n",
    "        return 1\n",
    "    else:\n",
    "        return 2\n",
    "df['sugar_type'] = list(map(classifier,df['avg_glucose_level']))"
   ]
  },
  {
   "attachments": {},
   "cell_type": "markdown",
   "id": "b344efa9",
   "metadata": {},
   "source": [
    "Here also i have created \"body_type\" feature based upon BMI ranges.\n",
    "underweight =0\n",
    "healthyweight =1\n",
    "etc etc"
   ]
  },
  {
   "cell_type": "code",
   "execution_count": 22,
   "id": "6022c81b",
   "metadata": {},
   "outputs": [],
   "source": [
    "def classifier(bmi):\n",
    "    if bmi < 18.5:\n",
    "        return 0\n",
    "    elif bmi <= 24.9:\n",
    "        return 1\n",
    "    elif bmi <= 29.9:\n",
    "        return 2\n",
    "    else:\n",
    "        return 3\n",
    "df['body_type'] = list(map(classifier,df['bmi']))"
   ]
  },
  {
   "cell_type": "markdown",
   "id": "a9f3ba1f",
   "metadata": {},
   "source": [
    "# Encoding"
   ]
  },
  {
   "cell_type": "markdown",
   "id": "dc90e26d",
   "metadata": {},
   "source": [
    "Categorical label encoding ,Here I am using label encoding as we have categorical varibles and here order doesn't matter"
   ]
  },
  {
   "cell_type": "code",
   "execution_count": 23,
   "id": "3eb6bc15",
   "metadata": {},
   "outputs": [],
   "source": [
    "from sklearn.preprocessing import LabelEncoder\n",
    "my_encoder = LabelEncoder()"
   ]
  },
  {
   "cell_type": "code",
   "execution_count": 24,
   "id": "768b13f7",
   "metadata": {},
   "outputs": [],
   "source": [
    "df['gender'] = my_encoder.fit_transform(df['gender'])"
   ]
  },
  {
   "cell_type": "code",
   "execution_count": 25,
   "id": "d0eff2bb",
   "metadata": {},
   "outputs": [],
   "source": [
    "df['ever_married'] = my_encoder.fit_transform(df['ever_married'])"
   ]
  },
  {
   "cell_type": "code",
   "execution_count": 26,
   "id": "e4556799",
   "metadata": {},
   "outputs": [],
   "source": [
    "df['Residence_type'] = my_encoder.fit_transform(df['Residence_type'])"
   ]
  },
  {
   "cell_type": "markdown",
   "id": "e07bacfd",
   "metadata": {},
   "source": [
    "here there are multiple categories so we will use OneHotEncoder\n",
    "If we use labelEncoder the Ordinality will be created"
   ]
  },
  {
   "cell_type": "code",
   "execution_count": 27,
   "id": "4c06592d",
   "metadata": {},
   "outputs": [
    {
     "data": {
      "text/plain": [
       "array(['Private', 'Self-employed', 'Govt_job', 'children', 'Never_worked'],\n",
       "      dtype=object)"
      ]
     },
     "execution_count": 27,
     "metadata": {},
     "output_type": "execute_result"
    }
   ],
   "source": [
    "df['work_type'].unique()"
   ]
  },
  {
   "cell_type": "markdown",
   "id": "6b718dff",
   "metadata": {},
   "source": [
    "## OneHotEncoding"
   ]
  },
  {
   "cell_type": "code",
   "execution_count": 28,
   "id": "9da98184",
   "metadata": {},
   "outputs": [
    {
     "name": "stderr",
     "output_type": "stream",
     "text": [
      "C:\\Users\\snehe\\AppData\\Local\\Programs\\Python\\Python39\\lib\\site-packages\\sklearn\\utils\\deprecation.py:87: FutureWarning: Function get_feature_names is deprecated; get_feature_names is deprecated in 1.0 and will be removed in 1.2. Please use get_feature_names_out instead.\n",
      "  warnings.warn(msg, category=FutureWarning)\n"
     ]
    }
   ],
   "source": [
    "#here multiple columns will be created so I created separate DataFrame first and then merged it with main dataframe\n",
    "\n",
    "Hot_encoder = OneHotEncoder(handle_unknown='ignore')\n",
    "\n",
    "encoded_df = pd.DataFrame(Hot_encoder.fit_transform(df[['work_type']]).toarray())\n",
    "encoded_df.columns = Hot_encoder.get_feature_names(['work_type'])\n",
    "df = df.join(encoded_df)"
   ]
  },
  {
   "cell_type": "code",
   "execution_count": 29,
   "id": "d3e7f109",
   "metadata": {},
   "outputs": [
    {
     "name": "stderr",
     "output_type": "stream",
     "text": [
      "C:\\Users\\snehe\\AppData\\Local\\Programs\\Python\\Python39\\lib\\site-packages\\sklearn\\utils\\deprecation.py:87: FutureWarning: Function get_feature_names is deprecated; get_feature_names is deprecated in 1.0 and will be removed in 1.2. Please use get_feature_names_out instead.\n",
      "  warnings.warn(msg, category=FutureWarning)\n"
     ]
    }
   ],
   "source": [
    "#Hot_encoder = OneHotEncoder(handle_unknown='ignore')\n",
    "encoded_df1 = pd.DataFrame(Hot_encoder.fit_transform(df[['smoking_status']]).toarray())\n",
    "encoded_df1.columns = Hot_encoder.get_feature_names(['smoking_status'])\n",
    "df = df.join(encoded_df1)"
   ]
  },
  {
   "cell_type": "code",
   "execution_count": 30,
   "id": "34cfb2d3",
   "metadata": {},
   "outputs": [],
   "source": [
    "#deleting the existing categorical columns\n",
    "\n",
    "df.drop(['work_type'] ,axis=1, inplace=True)\n",
    "df.drop(['smoking_status'] ,axis=1, inplace=True)"
   ]
  },
  {
   "cell_type": "markdown",
   "id": "b513bf01",
   "metadata": {},
   "source": [
    "## Scaling of Numerical Columns"
   ]
  },
  {
   "cell_type": "code",
   "execution_count": 31,
   "id": "7bb48907",
   "metadata": {},
   "outputs": [],
   "source": [
    "scalar=MinMaxScaler()\n",
    "df[['avg_glucose_level','bmi','age']]=scalar.fit_transform(df[['avg_glucose_level','bmi','age']])"
   ]
  },
  {
   "cell_type": "code",
   "execution_count": 32,
   "id": "ae3f5bca",
   "metadata": {},
   "outputs": [
    {
     "data": {
      "text/html": [
       "<div>\n",
       "<style scoped>\n",
       "    .dataframe tbody tr th:only-of-type {\n",
       "        vertical-align: middle;\n",
       "    }\n",
       "\n",
       "    .dataframe tbody tr th {\n",
       "        vertical-align: top;\n",
       "    }\n",
       "\n",
       "    .dataframe thead th {\n",
       "        text-align: right;\n",
       "    }\n",
       "</style>\n",
       "<table border=\"1\" class=\"dataframe\">\n",
       "  <thead>\n",
       "    <tr style=\"text-align: right;\">\n",
       "      <th></th>\n",
       "      <th>id</th>\n",
       "      <th>gender</th>\n",
       "      <th>age</th>\n",
       "      <th>hypertension</th>\n",
       "      <th>heart_disease</th>\n",
       "      <th>ever_married</th>\n",
       "      <th>Residence_type</th>\n",
       "      <th>avg_glucose_level</th>\n",
       "      <th>bmi</th>\n",
       "      <th>stroke</th>\n",
       "      <th>...</th>\n",
       "      <th>body_type</th>\n",
       "      <th>work_type_Govt_job</th>\n",
       "      <th>work_type_Never_worked</th>\n",
       "      <th>work_type_Private</th>\n",
       "      <th>work_type_Self-employed</th>\n",
       "      <th>work_type_children</th>\n",
       "      <th>smoking_status_Unknown</th>\n",
       "      <th>smoking_status_formerly smoked</th>\n",
       "      <th>smoking_status_never smoked</th>\n",
       "      <th>smoking_status_smokes</th>\n",
       "    </tr>\n",
       "  </thead>\n",
       "  <tbody>\n",
       "    <tr>\n",
       "      <th>0</th>\n",
       "      <td>9046</td>\n",
       "      <td>1</td>\n",
       "      <td>0.816895</td>\n",
       "      <td>0</td>\n",
       "      <td>1</td>\n",
       "      <td>1</td>\n",
       "      <td>1</td>\n",
       "      <td>0.934478</td>\n",
       "      <td>0.632212</td>\n",
       "      <td>1</td>\n",
       "      <td>...</td>\n",
       "      <td>3</td>\n",
       "      <td>0.0</td>\n",
       "      <td>0.0</td>\n",
       "      <td>1.0</td>\n",
       "      <td>0.0</td>\n",
       "      <td>0.0</td>\n",
       "      <td>0.0</td>\n",
       "      <td>1.0</td>\n",
       "      <td>0.0</td>\n",
       "      <td>0.0</td>\n",
       "    </tr>\n",
       "    <tr>\n",
       "      <th>1</th>\n",
       "      <td>51676</td>\n",
       "      <td>0</td>\n",
       "      <td>0.743652</td>\n",
       "      <td>0</td>\n",
       "      <td>0</td>\n",
       "      <td>1</td>\n",
       "      <td>0</td>\n",
       "      <td>0.791913</td>\n",
       "      <td>0.447115</td>\n",
       "      <td>1</td>\n",
       "      <td>...</td>\n",
       "      <td>2</td>\n",
       "      <td>0.0</td>\n",
       "      <td>0.0</td>\n",
       "      <td>0.0</td>\n",
       "      <td>1.0</td>\n",
       "      <td>0.0</td>\n",
       "      <td>0.0</td>\n",
       "      <td>0.0</td>\n",
       "      <td>1.0</td>\n",
       "      <td>0.0</td>\n",
       "    </tr>\n",
       "    <tr>\n",
       "      <th>2</th>\n",
       "      <td>31112</td>\n",
       "      <td>1</td>\n",
       "      <td>0.975586</td>\n",
       "      <td>0</td>\n",
       "      <td>1</td>\n",
       "      <td>1</td>\n",
       "      <td>0</td>\n",
       "      <td>0.273501</td>\n",
       "      <td>0.533654</td>\n",
       "      <td>1</td>\n",
       "      <td>...</td>\n",
       "      <td>3</td>\n",
       "      <td>0.0</td>\n",
       "      <td>0.0</td>\n",
       "      <td>1.0</td>\n",
       "      <td>0.0</td>\n",
       "      <td>0.0</td>\n",
       "      <td>0.0</td>\n",
       "      <td>0.0</td>\n",
       "      <td>1.0</td>\n",
       "      <td>0.0</td>\n",
       "    </tr>\n",
       "    <tr>\n",
       "      <th>3</th>\n",
       "      <td>60182</td>\n",
       "      <td>0</td>\n",
       "      <td>0.597168</td>\n",
       "      <td>0</td>\n",
       "      <td>0</td>\n",
       "      <td>1</td>\n",
       "      <td>1</td>\n",
       "      <td>0.625121</td>\n",
       "      <td>0.579327</td>\n",
       "      <td>1</td>\n",
       "      <td>...</td>\n",
       "      <td>3</td>\n",
       "      <td>0.0</td>\n",
       "      <td>0.0</td>\n",
       "      <td>1.0</td>\n",
       "      <td>0.0</td>\n",
       "      <td>0.0</td>\n",
       "      <td>0.0</td>\n",
       "      <td>0.0</td>\n",
       "      <td>0.0</td>\n",
       "      <td>1.0</td>\n",
       "    </tr>\n",
       "    <tr>\n",
       "      <th>4</th>\n",
       "      <td>1665</td>\n",
       "      <td>0</td>\n",
       "      <td>0.963379</td>\n",
       "      <td>1</td>\n",
       "      <td>0</td>\n",
       "      <td>1</td>\n",
       "      <td>0</td>\n",
       "      <td>0.640681</td>\n",
       "      <td>0.329327</td>\n",
       "      <td>1</td>\n",
       "      <td>...</td>\n",
       "      <td>1</td>\n",
       "      <td>0.0</td>\n",
       "      <td>0.0</td>\n",
       "      <td>0.0</td>\n",
       "      <td>1.0</td>\n",
       "      <td>0.0</td>\n",
       "      <td>0.0</td>\n",
       "      <td>0.0</td>\n",
       "      <td>1.0</td>\n",
       "      <td>0.0</td>\n",
       "    </tr>\n",
       "  </tbody>\n",
       "</table>\n",
       "<p>5 rows × 21 columns</p>\n",
       "</div>"
      ],
      "text/plain": [
       "      id  gender       age  hypertension  heart_disease  ever_married  \\\n",
       "0   9046       1  0.816895             0              1             1   \n",
       "1  51676       0  0.743652             0              0             1   \n",
       "2  31112       1  0.975586             0              1             1   \n",
       "3  60182       0  0.597168             0              0             1   \n",
       "4   1665       0  0.963379             1              0             1   \n",
       "\n",
       "   Residence_type  avg_glucose_level       bmi  stroke  ...  body_type  \\\n",
       "0               1           0.934478  0.632212       1  ...          3   \n",
       "1               0           0.791913  0.447115       1  ...          2   \n",
       "2               0           0.273501  0.533654       1  ...          3   \n",
       "3               1           0.625121  0.579327       1  ...          3   \n",
       "4               0           0.640681  0.329327       1  ...          1   \n",
       "\n",
       "   work_type_Govt_job  work_type_Never_worked  work_type_Private  \\\n",
       "0                 0.0                     0.0                1.0   \n",
       "1                 0.0                     0.0                0.0   \n",
       "2                 0.0                     0.0                1.0   \n",
       "3                 0.0                     0.0                1.0   \n",
       "4                 0.0                     0.0                0.0   \n",
       "\n",
       "   work_type_Self-employed  work_type_children  smoking_status_Unknown  \\\n",
       "0                      0.0                 0.0                     0.0   \n",
       "1                      1.0                 0.0                     0.0   \n",
       "2                      0.0                 0.0                     0.0   \n",
       "3                      0.0                 0.0                     0.0   \n",
       "4                      1.0                 0.0                     0.0   \n",
       "\n",
       "   smoking_status_formerly smoked  smoking_status_never smoked  \\\n",
       "0                             1.0                          0.0   \n",
       "1                             0.0                          1.0   \n",
       "2                             0.0                          1.0   \n",
       "3                             0.0                          0.0   \n",
       "4                             0.0                          1.0   \n",
       "\n",
       "   smoking_status_smokes  \n",
       "0                    0.0  \n",
       "1                    0.0  \n",
       "2                    0.0  \n",
       "3                    1.0  \n",
       "4                    0.0  \n",
       "\n",
       "[5 rows x 21 columns]"
      ]
     },
     "execution_count": 32,
     "metadata": {},
     "output_type": "execute_result"
    }
   ],
   "source": [
    "df.head(5)"
   ]
  },
  {
   "cell_type": "markdown",
   "id": "effaea88",
   "metadata": {},
   "source": [
    "### All operations are performed as per assignment"
   ]
  }
 ],
 "metadata": {
  "kernelspec": {
   "display_name": "Python 3 (ipykernel)",
   "language": "python",
   "name": "python3"
  },
  "language_info": {
   "codemirror_mode": {
    "name": "ipython",
    "version": 3
   },
   "file_extension": ".py",
   "mimetype": "text/x-python",
   "name": "python",
   "nbconvert_exporter": "python",
   "pygments_lexer": "ipython3",
   "version": "3.9.13"
  }
 },
 "nbformat": 4,
 "nbformat_minor": 5
}
